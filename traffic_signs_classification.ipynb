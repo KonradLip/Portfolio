{
  "nbformat": 4,
  "nbformat_minor": 0,
  "metadata": {
    "colab": {
      "provenance": [],
      "authorship_tag": "ABX9TyP/BwI/o2CJTjiRqa5105IC",
      "include_colab_link": true
    },
    "kernelspec": {
      "name": "python3",
      "display_name": "Python 3"
    },
    "language_info": {
      "name": "python"
    }
  },
  "cells": [
    {
      "cell_type": "markdown",
      "metadata": {
        "id": "view-in-github",
        "colab_type": "text"
      },
      "source": [
        "<a href=\"https://colab.research.google.com/github/KonradLip/Portfolio/blob/main/traffic_signs_classification.ipynb\" target=\"_parent\"><img src=\"https://colab.research.google.com/assets/colab-badge.svg\" alt=\"Open In Colab\"/></a>"
      ]
    },
    {
      "cell_type": "code",
      "execution_count": 2,
      "metadata": {
        "colab": {
          "base_uri": "https://localhost:8080/",
          "height": 92
        },
        "id": "ea_VdC3GTEJu",
        "outputId": "994d288f-0951-47bc-fee6-883fe66accb1"
      },
      "outputs": [
        {
          "output_type": "display_data",
          "data": {
            "text/plain": [
              "<IPython.core.display.HTML object>"
            ],
            "text/html": [
              "\n",
              "     <input type=\"file\" id=\"files-46bddf20-d94e-444a-b42b-622188b4e42d\" name=\"files[]\" multiple disabled\n",
              "        style=\"border:none\" />\n",
              "     <output id=\"result-46bddf20-d94e-444a-b42b-622188b4e42d\">\n",
              "      Upload widget is only available when the cell has been executed in the\n",
              "      current browser session. Please rerun this cell to enable.\n",
              "      </output>\n",
              "      <script>// Copyright 2017 Google LLC\n",
              "//\n",
              "// Licensed under the Apache License, Version 2.0 (the \"License\");\n",
              "// you may not use this file except in compliance with the License.\n",
              "// You may obtain a copy of the License at\n",
              "//\n",
              "//      http://www.apache.org/licenses/LICENSE-2.0\n",
              "//\n",
              "// Unless required by applicable law or agreed to in writing, software\n",
              "// distributed under the License is distributed on an \"AS IS\" BASIS,\n",
              "// WITHOUT WARRANTIES OR CONDITIONS OF ANY KIND, either express or implied.\n",
              "// See the License for the specific language governing permissions and\n",
              "// limitations under the License.\n",
              "\n",
              "/**\n",
              " * @fileoverview Helpers for google.colab Python module.\n",
              " */\n",
              "(function(scope) {\n",
              "function span(text, styleAttributes = {}) {\n",
              "  const element = document.createElement('span');\n",
              "  element.textContent = text;\n",
              "  for (const key of Object.keys(styleAttributes)) {\n",
              "    element.style[key] = styleAttributes[key];\n",
              "  }\n",
              "  return element;\n",
              "}\n",
              "\n",
              "// Max number of bytes which will be uploaded at a time.\n",
              "const MAX_PAYLOAD_SIZE = 100 * 1024;\n",
              "\n",
              "function _uploadFiles(inputId, outputId) {\n",
              "  const steps = uploadFilesStep(inputId, outputId);\n",
              "  const outputElement = document.getElementById(outputId);\n",
              "  // Cache steps on the outputElement to make it available for the next call\n",
              "  // to uploadFilesContinue from Python.\n",
              "  outputElement.steps = steps;\n",
              "\n",
              "  return _uploadFilesContinue(outputId);\n",
              "}\n",
              "\n",
              "// This is roughly an async generator (not supported in the browser yet),\n",
              "// where there are multiple asynchronous steps and the Python side is going\n",
              "// to poll for completion of each step.\n",
              "// This uses a Promise to block the python side on completion of each step,\n",
              "// then passes the result of the previous step as the input to the next step.\n",
              "function _uploadFilesContinue(outputId) {\n",
              "  const outputElement = document.getElementById(outputId);\n",
              "  const steps = outputElement.steps;\n",
              "\n",
              "  const next = steps.next(outputElement.lastPromiseValue);\n",
              "  return Promise.resolve(next.value.promise).then((value) => {\n",
              "    // Cache the last promise value to make it available to the next\n",
              "    // step of the generator.\n",
              "    outputElement.lastPromiseValue = value;\n",
              "    return next.value.response;\n",
              "  });\n",
              "}\n",
              "\n",
              "/**\n",
              " * Generator function which is called between each async step of the upload\n",
              " * process.\n",
              " * @param {string} inputId Element ID of the input file picker element.\n",
              " * @param {string} outputId Element ID of the output display.\n",
              " * @return {!Iterable<!Object>} Iterable of next steps.\n",
              " */\n",
              "function* uploadFilesStep(inputId, outputId) {\n",
              "  const inputElement = document.getElementById(inputId);\n",
              "  inputElement.disabled = false;\n",
              "\n",
              "  const outputElement = document.getElementById(outputId);\n",
              "  outputElement.innerHTML = '';\n",
              "\n",
              "  const pickedPromise = new Promise((resolve) => {\n",
              "    inputElement.addEventListener('change', (e) => {\n",
              "      resolve(e.target.files);\n",
              "    });\n",
              "  });\n",
              "\n",
              "  const cancel = document.createElement('button');\n",
              "  inputElement.parentElement.appendChild(cancel);\n",
              "  cancel.textContent = 'Cancel upload';\n",
              "  const cancelPromise = new Promise((resolve) => {\n",
              "    cancel.onclick = () => {\n",
              "      resolve(null);\n",
              "    };\n",
              "  });\n",
              "\n",
              "  // Wait for the user to pick the files.\n",
              "  const files = yield {\n",
              "    promise: Promise.race([pickedPromise, cancelPromise]),\n",
              "    response: {\n",
              "      action: 'starting',\n",
              "    }\n",
              "  };\n",
              "\n",
              "  cancel.remove();\n",
              "\n",
              "  // Disable the input element since further picks are not allowed.\n",
              "  inputElement.disabled = true;\n",
              "\n",
              "  if (!files) {\n",
              "    return {\n",
              "      response: {\n",
              "        action: 'complete',\n",
              "      }\n",
              "    };\n",
              "  }\n",
              "\n",
              "  for (const file of files) {\n",
              "    const li = document.createElement('li');\n",
              "    li.append(span(file.name, {fontWeight: 'bold'}));\n",
              "    li.append(span(\n",
              "        `(${file.type || 'n/a'}) - ${file.size} bytes, ` +\n",
              "        `last modified: ${\n",
              "            file.lastModifiedDate ? file.lastModifiedDate.toLocaleDateString() :\n",
              "                                    'n/a'} - `));\n",
              "    const percent = span('0% done');\n",
              "    li.appendChild(percent);\n",
              "\n",
              "    outputElement.appendChild(li);\n",
              "\n",
              "    const fileDataPromise = new Promise((resolve) => {\n",
              "      const reader = new FileReader();\n",
              "      reader.onload = (e) => {\n",
              "        resolve(e.target.result);\n",
              "      };\n",
              "      reader.readAsArrayBuffer(file);\n",
              "    });\n",
              "    // Wait for the data to be ready.\n",
              "    let fileData = yield {\n",
              "      promise: fileDataPromise,\n",
              "      response: {\n",
              "        action: 'continue',\n",
              "      }\n",
              "    };\n",
              "\n",
              "    // Use a chunked sending to avoid message size limits. See b/62115660.\n",
              "    let position = 0;\n",
              "    do {\n",
              "      const length = Math.min(fileData.byteLength - position, MAX_PAYLOAD_SIZE);\n",
              "      const chunk = new Uint8Array(fileData, position, length);\n",
              "      position += length;\n",
              "\n",
              "      const base64 = btoa(String.fromCharCode.apply(null, chunk));\n",
              "      yield {\n",
              "        response: {\n",
              "          action: 'append',\n",
              "          file: file.name,\n",
              "          data: base64,\n",
              "        },\n",
              "      };\n",
              "\n",
              "      let percentDone = fileData.byteLength === 0 ?\n",
              "          100 :\n",
              "          Math.round((position / fileData.byteLength) * 100);\n",
              "      percent.textContent = `${percentDone}% done`;\n",
              "\n",
              "    } while (position < fileData.byteLength);\n",
              "  }\n",
              "\n",
              "  // All done.\n",
              "  yield {\n",
              "    response: {\n",
              "      action: 'complete',\n",
              "    }\n",
              "  };\n",
              "}\n",
              "\n",
              "scope.google = scope.google || {};\n",
              "scope.google.colab = scope.google.colab || {};\n",
              "scope.google.colab._files = {\n",
              "  _uploadFiles,\n",
              "  _uploadFilesContinue,\n",
              "};\n",
              "})(self);\n",
              "</script> "
            ]
          },
          "metadata": {}
        },
        {
          "output_type": "stream",
          "name": "stdout",
          "text": [
            "Saving kaggle.json to kaggle.json\n"
          ]
        },
        {
          "output_type": "execute_result",
          "data": {
            "text/plain": [
              "{'kaggle.json': b'{\"username\":\"konradlipiski\",\"key\":\"0b8205379d837377e6f05290bd01bf22\"}'}"
            ]
          },
          "metadata": {},
          "execution_count": 2
        }
      ],
      "source": [
        "from google.colab import files\n",
        "files.upload()"
      ]
    },
    {
      "cell_type": "code",
      "source": [
        "!pip install -q kaggle"
      ],
      "metadata": {
        "id": "qYrfZuvFTOMN"
      },
      "execution_count": 3,
      "outputs": []
    },
    {
      "cell_type": "code",
      "source": [
        "!mkdir -p ~/.kaggle\n",
        "!cp kaggle.json ~/.kaggle/"
      ],
      "metadata": {
        "id": "fmZnm-0cTQ_F"
      },
      "execution_count": 4,
      "outputs": []
    },
    {
      "cell_type": "code",
      "source": [
        "!mkdir traffic_signs\n",
        "%cd traffic_signs"
      ],
      "metadata": {
        "colab": {
          "base_uri": "https://localhost:8080/"
        },
        "id": "FPwAoot_TTNq",
        "outputId": "94917e9b-de7a-4fd5-9a08-35bbe5158f3c"
      },
      "execution_count": 5,
      "outputs": [
        {
          "output_type": "stream",
          "name": "stdout",
          "text": [
            "/content/traffic_signs\n"
          ]
        }
      ]
    },
    {
      "cell_type": "code",
      "source": [
        "!kaggle datasets list -s traffic-sign"
      ],
      "metadata": {
        "colab": {
          "base_uri": "https://localhost:8080/"
        },
        "id": "t68TYHcTTXkd",
        "outputId": "3108594a-5641-4f4d-f085-de893700d416"
      },
      "execution_count": 6,
      "outputs": [
        {
          "output_type": "stream",
          "name": "stdout",
          "text": [
            "Warning: Your Kaggle API key is readable by other users on this system! To fix this, you can run 'chmod 600 /root/.kaggle/kaggle.json'\n",
            "ref                                                                title                                                size  lastUpdated          downloadCount  voteCount  usabilityRating  \n",
            "-----------------------------------------------------------------  --------------------------------------------------  -----  -------------------  -------------  ---------  ---------------  \n",
            "meowmeowmeowmeowmeow/gtsrb-german-traffic-sign                     GTSRB - German Traffic Sign Recognition Benchmark   612MB  2018-11-25 18:12:34          85559        977  0.8235294        \n",
            "valentynsichkar/traffic-signs-preprocessed                         Traffic Signs Preprocessed                            4GB  2019-08-31 18:22:11          11172        252  1.0              \n",
            "ahemateja19bec1025/traffic-sign-dataset-classification             Traffic Sign Dataset - Classification               190MB  2021-12-21 08:44:27           3060         61  0.9411765        \n",
            "valentynsichkar/traffic-signs-dataset-in-yolo-format               Traffic Signs Dataset in YOLO format                250MB  2020-04-03 22:25:16          11003        100  0.9375           \n",
            "flo2607/traffic-signs-classification                               Traffic Signs Classification                         65MB  2020-03-10 16:51:34           3324         47  0.7647059        \n",
            "dmitryyemelyanov/chinese-traffic-signs                             Chinese Traffic Signs                               185MB  2020-04-16 19:42:40           1696         30  0.9411765        \n",
            "shanmukh05/traffic-sign-cropped                                    Traffic Sign Recognition Cropped Images              43MB  2021-03-05 11:49:40            860         21  0.88235295       \n",
            "wjybuqi/traffic-sign-classification-and-recognition                Traffic Sign Classification and Recognition          25MB  2021-12-21 06:30:44            593         27  0.9375           \n",
            "ahemateja19bec1025/trafficsignlocalizationdetectionyoloannotated   Traffic-Sign-Localization-Detection-YOLO-Annotated   44MB  2021-12-21 09:44:55            612         14  1.0              \n",
            "shivamsinghal1012/traffic-sign-data-set                            Traffic Sign Data set                               401KB  2020-02-11 07:39:37           1006         19  0.64705884       \n",
            "daniildeltsov/traffic-signs-gtsrb-plus-162-custom-classes          Traffic Signs (GTSRB plus 162 custom classes)        15GB  2022-04-15 14:59:47            469         36  0.88235295       \n",
            "dataclusterlabs/indian-sign-board-image-dataset                    Indian Traffic Sign Image Dataset                   400MB  2023-04-22 02:54:57           1151         22  0.8125           \n",
            "erdicem/traffic-sign-images-from-turkey                            Traffic Sign Images From Turkey                      43MB  2020-09-18 01:13:26            479         17  0.5294118        \n",
            "safabouguezzi/german-traffic-sign-detection-benchmark-gtsdb        GTSDB - German Traffic Sign Detection Benchmark       2GB  2020-11-20 11:21:11           1614         12  0.5625           \n",
            "saadhaxxan/germantrafficsigns                                      german-traffic-signs                                118MB  2020-02-29 09:05:32            639          7  0.64705884       \n",
            "valentynsichkar/traffic-signs-1-million-images-for-classification  Traffic Signs 1 million images for Classification    20GB  2021-02-08 16:45:43            401          8  1.0              \n",
            "watchman/rtsd-dataset                                              Russian traffic sign images dataset                  17GB  2022-04-03 07:03:22            718         11  0.6875           \n",
            "saraparsaseresht/persian-traffic-sign-dataset-ptsd                 Persian Traffic Sign Dataset (PTSD)                 544MB  2021-11-19 13:52:40            376         14  0.8235294        \n",
            "sarangdilipjodh/indian-traffic-signs-prediction85-classes          Indian Traffic Signs Prediction(85 classes)           1GB  2022-08-18 05:41:37            234         17  0.75             \n",
            "ahemateja19bec1025/trafficsignlocalizationdetectionssdannotated    Traffic-Sign-Localization-Detection-SSD-Annotated     3GB  2021-12-18 09:11:37            294         19  0.8125           \n"
          ]
        }
      ]
    },
    {
      "cell_type": "code",
      "source": [
        "!kaggle datasets download meowmeowmeowmeowmeow/gtsrb-german-traffic-sign \n",
        "%cd .."
      ],
      "metadata": {
        "colab": {
          "base_uri": "https://localhost:8080/"
        },
        "id": "kp22DLcHTbI9",
        "outputId": "558a93dc-f482-4dce-b203-2ac4c1efeca7"
      },
      "execution_count": 7,
      "outputs": [
        {
          "output_type": "stream",
          "name": "stdout",
          "text": [
            "Warning: Your Kaggle API key is readable by other users on this system! To fix this, you can run 'chmod 600 /root/.kaggle/kaggle.json'\n",
            "Downloading gtsrb-german-traffic-sign.zip to /content/traffic_signs\n",
            " 98% 600M/612M [00:07<00:00, 178MB/s]\n",
            "100% 612M/612M [00:07<00:00, 85.0MB/s]\n",
            "/content\n"
          ]
        }
      ]
    },
    {
      "cell_type": "code",
      "source": [
        "!unzip /content/traffic_signs/gtsrb-german-traffic-sign.zip -d traffic_signs\n",
        "!rm traffic_signs/gtsrb-german-traffic-sign.zip\n"
      ],
      "metadata": {
        "id": "yk2jxRnqTlUl"
      },
      "execution_count": null,
      "outputs": []
    },
    {
      "cell_type": "markdown",
      "source": [
        "## Importing necessary libraries"
      ],
      "metadata": {
        "id": "kYp9rr-VWNNy"
      }
    },
    {
      "cell_type": "code",
      "source": [
        "import pandas as pd\n",
        "import numpy as np\n",
        "import matplotlib.pyplot as plt\n",
        "import seaborn as sns\n",
        "from PIL import Image\n",
        "import os\n",
        "from sklearn.model_selection import train_test_split\n",
        "from keras.utils import to_categorical\n",
        "from keras.models import Sequential\n",
        "from tensorflow.keras.layers import Dense, Flatten, Dropout, Conv2D, MaxPool2D"
      ],
      "metadata": {
        "id": "_VH3iFOEUyfL"
      },
      "execution_count": 9,
      "outputs": []
    },
    {
      "cell_type": "code",
      "source": [
        "# Storing data and labels in lists\n",
        "data =[]\n",
        "labels =[]\n",
        "# There are 43 classes in train file\n",
        "classes = 43"
      ],
      "metadata": {
        "id": "Ak6PudHVWMNv"
      },
      "execution_count": 10,
      "outputs": []
    },
    {
      "cell_type": "code",
      "source": [
        "# Getting our current path\n",
        "%cd /content/traffic_signs\n",
        "path = os.getcwd()\n",
        "print(path)"
      ],
      "metadata": {
        "colab": {
          "base_uri": "https://localhost:8080/"
        },
        "id": "5vl3Sl6MT7eb",
        "outputId": "282f7088-6330-49c7-c670-07a287739c98"
      },
      "execution_count": 11,
      "outputs": [
        {
          "output_type": "stream",
          "name": "stdout",
          "text": [
            "/content/traffic_signs\n",
            "/content/traffic_signs\n"
          ]
        }
      ]
    },
    {
      "cell_type": "code",
      "source": [
        "# Speifying target size for images\n",
        "target_size = (64, 64)\n",
        "\n",
        "# Resizing images in order for model to work\n",
        "for i in range(classes):\n",
        "  img_path = os.path.join(path, 'train', str(i))\n",
        "  images = os.listdir(img_path)\n",
        "  for y in images:\n",
        "    img = Image.open(img_path + '/' + y)\n",
        "    img = img.resize(target_size)\n",
        "    img = np.array(img)\n",
        "    data.append(img)\n",
        "    labels.append(i)"
      ],
      "metadata": {
        "id": "DYKIuazDUxc_"
      },
      "execution_count": 12,
      "outputs": []
    },
    {
      "cell_type": "code",
      "source": [
        "# Storing data and labels as arrays\n",
        "data = np.array(data)\n",
        "labels = np.array(labels)"
      ],
      "metadata": {
        "id": "unnuxRS7atoC"
      },
      "execution_count": 13,
      "outputs": []
    },
    {
      "cell_type": "code",
      "source": [
        "# Dividing image pixels by 255 i.e normalization of data. It converts pixel values to fit in range 0 and 1\n",
        "data = data/255"
      ],
      "metadata": {
        "id": "8tV6PFLsbjpc"
      },
      "execution_count": 14,
      "outputs": []
    },
    {
      "cell_type": "markdown",
      "source": [
        "# Building a model"
      ],
      "metadata": {
        "id": "Y3lNjjV3cON4"
      }
    },
    {
      "cell_type": "code",
      "source": [
        "x_train, x_test, y_train, y_test = train_test_split(data, labels, test_size=0.2, random_state=0)"
      ],
      "metadata": {
        "id": "R4qLBClQcSD7"
      },
      "execution_count": 15,
      "outputs": []
    },
    {
      "cell_type": "code",
      "source": [
        "# Converting labels to categorical data\n",
        "y_train = to_categorical(y_train)\n",
        "y_test = to_categorical(y_test)"
      ],
      "metadata": {
        "id": "Hgojb8FEcz7s"
      },
      "execution_count": 16,
      "outputs": []
    },
    {
      "cell_type": "code",
      "source": [
        "model = Sequential()\n",
        "    \n",
        "model.add(Conv2D(32, (3, 3), activation='relu', input_shape=(64, 64, 3))),\n",
        "model.add(MaxPool2D((2, 2))),\n",
        "model.add(Conv2D(64, (3, 3), activation='relu')),\n",
        "model.add(MaxPool2D((2, 2))),\n",
        "model.add(Flatten()),\n",
        "model.add(Dense(64, activation='relu')),\n",
        "model.add(Dense(classes, activation='softmax'))\n",
        "\n",
        "# Compiling the model\n",
        "model.compile(optimizer='adam', loss='categorical_crossentropy', metrics=['accuracy'])"
      ],
      "metadata": {
        "id": "sr8HC95DeNOd"
      },
      "execution_count": 17,
      "outputs": []
    },
    {
      "cell_type": "code",
      "source": [
        "# Training the model with traffic sign data\n",
        "history = model.fit(x_train, y_train, epochs=3, batch_size=32, validation_data=(x_test, y_test))"
      ],
      "metadata": {
        "colab": {
          "base_uri": "https://localhost:8080/"
        },
        "id": "zc6pI-YEjg32",
        "outputId": "5579edca-84c1-4aae-f599-285b6ca978e8"
      },
      "execution_count": 25,
      "outputs": [
        {
          "output_type": "stream",
          "name": "stdout",
          "text": [
            "Epoch 1/3\n",
            "981/981 [==============================] - 209s 213ms/step - loss: 0.0333 - accuracy: 0.9901 - val_loss: 0.1035 - val_accuracy: 0.9777\n",
            "Epoch 2/3\n",
            "981/981 [==============================] - 198s 202ms/step - loss: 0.0219 - accuracy: 0.9939 - val_loss: 0.1313 - val_accuracy: 0.9728\n",
            "Epoch 3/3\n",
            "981/981 [==============================] - 209s 213ms/step - loss: 0.0231 - accuracy: 0.9938 - val_loss: 0.0944 - val_accuracy: 0.9801\n"
          ]
        }
      ]
    },
    {
      "cell_type": "code",
      "source": [
        "# Evaluating the model\n",
        "test_loss, test_accuracy = model.evaluate(x_test, y_test, verbose=2)\n",
        "print(\"Test loss:\", test_loss)\n",
        "print(\"Test accuracy:\", test_accuracy)\n",
        "model.summary()"
      ],
      "metadata": {
        "colab": {
          "base_uri": "https://localhost:8080/"
        },
        "id": "zl2U8FPPjqSN",
        "outputId": "862b780f-7969-4cea-f776-ff8361713281"
      },
      "execution_count": 26,
      "outputs": [
        {
          "output_type": "stream",
          "name": "stdout",
          "text": [
            "246/246 - 13s - loss: 0.0944 - accuracy: 0.9801 - 13s/epoch - 52ms/step\n",
            "Test loss: 0.09440916776657104\n",
            "Test accuracy: 0.9801071286201477\n",
            "Model: \"sequential\"\n",
            "_________________________________________________________________\n",
            " Layer (type)                Output Shape              Param #   \n",
            "=================================================================\n",
            " conv2d (Conv2D)             (None, 62, 62, 32)        896       \n",
            "                                                                 \n",
            " max_pooling2d (MaxPooling2D  (None, 31, 31, 32)       0         \n",
            " )                                                               \n",
            "                                                                 \n",
            " conv2d_1 (Conv2D)           (None, 29, 29, 64)        18496     \n",
            "                                                                 \n",
            " max_pooling2d_1 (MaxPooling  (None, 14, 14, 64)       0         \n",
            " 2D)                                                             \n",
            "                                                                 \n",
            " flatten (Flatten)           (None, 12544)             0         \n",
            "                                                                 \n",
            " dense (Dense)               (None, 64)                802880    \n",
            "                                                                 \n",
            " dense_1 (Dense)             (None, 43)                2795      \n",
            "                                                                 \n",
            "=================================================================\n",
            "Total params: 825,067\n",
            "Trainable params: 825,067\n",
            "Non-trainable params: 0\n",
            "_________________________________________________________________\n"
          ]
        }
      ]
    },
    {
      "cell_type": "code",
      "source": [
        "# Plotting the epochs training\n",
        "train_accuracy = history.history['accuracy']\n",
        "val_accuracy = history.history['val_accuracy']\n",
        "\n",
        "# Creating a plot of accuracy vs. epochs\n",
        "plt.plot(range(1, len(train_accuracy) + 1), train_accuracy, label='Training Accuracy')\n",
        "plt.plot(range(1, len(val_accuracy) + 1), val_accuracy, label='Validation Accuracy')\n",
        "plt.xlabel('Epochs')\n",
        "plt.ylabel('Accuracy')\n",
        "plt.title('Accuracy vs. Epochs')\n",
        "plt.legend()\n",
        "plt.show()"
      ],
      "metadata": {
        "colab": {
          "base_uri": "https://localhost:8080/",
          "height": 472
        },
        "id": "4qaS--HZp7g2",
        "outputId": "f8db933b-c341-42b1-f82b-72ead7585f84"
      },
      "execution_count": 27,
      "outputs": [
        {
          "output_type": "display_data",
          "data": {
            "text/plain": [
              "<Figure size 640x480 with 1 Axes>"
            ],
            "image/png": "[encoded data removed]"
          },
          "metadata": {}
        }
      ]
    }
  ]
}