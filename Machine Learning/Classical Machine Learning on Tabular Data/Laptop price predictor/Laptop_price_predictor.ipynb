{
  "cells": [
    {
      "cell_type": "markdown",
      "id": "b1d88e37",
      "metadata": {
        "id": "b1d88e37"
      },
      "source": [
        "The goal of this project is to create a model that predicts computer prices"
      ]
    },
    {
      "cell_type": "markdown",
      "id": "c56bc2cc",
      "metadata": {
        "id": "c56bc2cc"
      },
      "source": [
        "## Importing libraries"
      ]
    },
    {
      "cell_type": "code",
      "execution_count": 54,
      "id": "f5a63c95",
      "metadata": {
        "id": "f5a63c95"
      },
      "outputs": [],
      "source": [
        "import pandas as pd\n",
        "import numpy as np\n",
        "import matplotlib.pyplot as plt\n",
        "import seaborn as sns\n",
        "from sklearn.model_selection import train_test_split, GridSearchCV, RandomizedSearchCV\n",
        "from sklearn.linear_model import LinearRegression, Ridge, Lasso\n",
        "from sklearn.preprocessing import LabelEncoder\n",
        "from sklearn.metrics import mean_squared_error, r2_score\n",
        "from sklearn.tree import DecisionTreeRegressor\n",
        "from sklearn.ensemble import RandomForestRegressor\n",
        "from sklearn.svm import SVR\n",
        "import lightgbm as ltb"
      ]
    },
    {
      "cell_type": "code",
      "execution_count": 55,
      "id": "63e435b8",
      "metadata": {
        "colab": {
          "base_uri": "https://localhost:8080/",
          "height": 476
        },
        "id": "63e435b8",
        "outputId": "fb4504ba-ece6-44e4-8c23-5972e7cf5899"
      },
      "outputs": [
        {
          "output_type": "execute_result",
          "data": {
            "text/plain": [
              "   Unnamed: 0 Company   TypeName  Inches                    ScreenResolution  \\\n",
              "0           0   Apple  Ultrabook    13.3  IPS Panel Retina Display 2560x1600   \n",
              "1           1   Apple  Ultrabook    13.3                            1440x900   \n",
              "2           2      HP   Notebook    15.6                   Full HD 1920x1080   \n",
              "3           3   Apple  Ultrabook    15.4  IPS Panel Retina Display 2880x1800   \n",
              "4           4   Apple  Ultrabook    13.3  IPS Panel Retina Display 2560x1600   \n",
              "\n",
              "                          Cpu   Ram               Memory  \\\n",
              "0        Intel Core i5 2.3GHz   8GB            128GB SSD   \n",
              "1        Intel Core i5 1.8GHz   8GB  128GB Flash Storage   \n",
              "2  Intel Core i5 7200U 2.5GHz   8GB            256GB SSD   \n",
              "3        Intel Core i7 2.7GHz  16GB            512GB SSD   \n",
              "4        Intel Core i5 3.1GHz   8GB            256GB SSD   \n",
              "\n",
              "                            Gpu  OpSys  Weight        Price  \n",
              "0  Intel Iris Plus Graphics 640  macOS  1.37kg   71378.6832  \n",
              "1        Intel HD Graphics 6000  macOS  1.34kg   47895.5232  \n",
              "2         Intel HD Graphics 620  No OS  1.86kg   30636.0000  \n",
              "3            AMD Radeon Pro 455  macOS  1.83kg  135195.3360  \n",
              "4  Intel Iris Plus Graphics 650  macOS  1.37kg   96095.8080  "
            ],
            "text/html": [
              "\n",
              "\n",
              "  <div id=\"df-f4a6cf40-6669-413e-ba9a-f11e7a3a929f\">\n",
              "    <div class=\"colab-df-container\">\n",
              "      <div>\n",
              "<style scoped>\n",
              "    .dataframe tbody tr th:only-of-type {\n",
              "        vertical-align: middle;\n",
              "    }\n",
              "\n",
              "    .dataframe tbody tr th {\n",
              "        vertical-align: top;\n",
              "    }\n",
              "\n",
              "    .dataframe thead th {\n",
              "        text-align: right;\n",
              "    }\n",
              "</style>\n",
              "<table border=\"1\" class=\"dataframe\">\n",
              "  <thead>\n",
              "    <tr style=\"text-align: right;\">\n",
              "      <th></th>\n",
              "      <th>Unnamed: 0</th>\n",
              "      <th>Company</th>\n",
              "      <th>TypeName</th>\n",
              "      <th>Inches</th>\n",
              "      <th>ScreenResolution</th>\n",
              "      <th>Cpu</th>\n",
              "      <th>Ram</th>\n",
              "      <th>Memory</th>\n",
              "      <th>Gpu</th>\n",
              "      <th>OpSys</th>\n",
              "      <th>Weight</th>\n",
              "      <th>Price</th>\n",
              "    </tr>\n",
              "  </thead>\n",
              "  <tbody>\n",
              "    <tr>\n",
              "      <th>0</th>\n",
              "      <td>0</td>\n",
              "      <td>Apple</td>\n",
              "      <td>Ultrabook</td>\n",
              "      <td>13.3</td>\n",
              "      <td>IPS Panel Retina Display 2560x1600</td>\n",
              "      <td>Intel Core i5 2.3GHz</td>\n",
              "      <td>8GB</td>\n",
              "      <td>128GB SSD</td>\n",
              "      <td>Intel Iris Plus Graphics 640</td>\n",
              "      <td>macOS</td>\n",
              "      <td>1.37kg</td>\n",
              "      <td>71378.6832</td>\n",
              "    </tr>\n",
              "    <tr>\n",
              "      <th>1</th>\n",
              "      <td>1</td>\n",
              "      <td>Apple</td>\n",
              "      <td>Ultrabook</td>\n",
              "      <td>13.3</td>\n",
              "      <td>1440x900</td>\n",
              "      <td>Intel Core i5 1.8GHz</td>\n",
              "      <td>8GB</td>\n",
              "      <td>128GB Flash Storage</td>\n",
              "      <td>Intel HD Graphics 6000</td>\n",
              "      <td>macOS</td>\n",
              "      <td>1.34kg</td>\n",
              "      <td>47895.5232</td>\n",
              "    </tr>\n",
              "    <tr>\n",
              "      <th>2</th>\n",
              "      <td>2</td>\n",
              "      <td>HP</td>\n",
              "      <td>Notebook</td>\n",
              "      <td>15.6</td>\n",
              "      <td>Full HD 1920x1080</td>\n",
              "      <td>Intel Core i5 7200U 2.5GHz</td>\n",
              "      <td>8GB</td>\n",
              "      <td>256GB SSD</td>\n",
              "      <td>Intel HD Graphics 620</td>\n",
              "      <td>No OS</td>\n",
              "      <td>1.86kg</td>\n",
              "      <td>30636.0000</td>\n",
              "    </tr>\n",
              "    <tr>\n",
              "      <th>3</th>\n",
              "      <td>3</td>\n",
              "      <td>Apple</td>\n",
              "      <td>Ultrabook</td>\n",
              "      <td>15.4</td>\n",
              "      <td>IPS Panel Retina Display 2880x1800</td>\n",
              "      <td>Intel Core i7 2.7GHz</td>\n",
              "      <td>16GB</td>\n",
              "      <td>512GB SSD</td>\n",
              "      <td>AMD Radeon Pro 455</td>\n",
              "      <td>macOS</td>\n",
              "      <td>1.83kg</td>\n",
              "      <td>135195.3360</td>\n",
              "    </tr>\n",
              "    <tr>\n",
              "      <th>4</th>\n",
              "      <td>4</td>\n",
              "      <td>Apple</td>\n",
              "      <td>Ultrabook</td>\n",
              "      <td>13.3</td>\n",
              "      <td>IPS Panel Retina Display 2560x1600</td>\n",
              "      <td>Intel Core i5 3.1GHz</td>\n",
              "      <td>8GB</td>\n",
              "      <td>256GB SSD</td>\n",
              "      <td>Intel Iris Plus Graphics 650</td>\n",
              "      <td>macOS</td>\n",
              "      <td>1.37kg</td>\n",
              "      <td>96095.8080</td>\n",
              "    </tr>\n",
              "  </tbody>\n",
              "</table>\n",
              "</div>\n",
              "      <button class=\"colab-df-convert\" onclick=\"convertToInteractive('df-f4a6cf40-6669-413e-ba9a-f11e7a3a929f')\"\n",
              "              title=\"Convert this dataframe to an interactive table.\"\n",
              "              style=\"display:none;\">\n",
              "\n",
              "  <svg xmlns=\"http://www.w3.org/2000/svg\" height=\"24px\"viewBox=\"0 0 24 24\"\n",
              "       width=\"24px\">\n",
              "    <path d=\"M0 0h24v24H0V0z\" fill=\"none\"/>\n",
              "    <path d=\"M18.56 5.44l.94 2.06.94-2.06 2.06-.94-2.06-.94-.94-2.06-.94 2.06-2.06.94zm-11 1L8.5 8.5l.94-2.06 2.06-.94-2.06-.94L8.5 2.5l-.94 2.06-2.06.94zm10 10l.94 2.06.94-2.06 2.06-.94-2.06-.94-.94-2.06-.94 2.06-2.06.94z\"/><path d=\"M17.41 7.96l-1.37-1.37c-.4-.4-.92-.59-1.43-.59-.52 0-1.04.2-1.43.59L10.3 9.45l-7.72 7.72c-.78.78-.78 2.05 0 2.83L4 21.41c.39.39.9.59 1.41.59.51 0 1.02-.2 1.41-.59l7.78-7.78 2.81-2.81c.8-.78.8-2.07 0-2.86zM5.41 20L4 18.59l7.72-7.72 1.47 1.35L5.41 20z\"/>\n",
              "  </svg>\n",
              "      </button>\n",
              "\n",
              "\n",
              "\n",
              "    <div id=\"df-ed2e31b2-62ad-46d2-9390-8d835caba2f1\">\n",
              "      <button class=\"colab-df-quickchart\" onclick=\"quickchart('df-ed2e31b2-62ad-46d2-9390-8d835caba2f1')\"\n",
              "              title=\"Suggest charts.\"\n",
              "              style=\"display:none;\">\n",
              "\n",
              "<svg xmlns=\"http://www.w3.org/2000/svg\" height=\"24px\"viewBox=\"0 0 24 24\"\n",
              "     width=\"24px\">\n",
              "    <g>\n",
              "        <path d=\"M19 3H5c-1.1 0-2 .9-2 2v14c0 1.1.9 2 2 2h14c1.1 0 2-.9 2-2V5c0-1.1-.9-2-2-2zM9 17H7v-7h2v7zm4 0h-2V7h2v10zm4 0h-2v-4h2v4z\"/>\n",
              "    </g>\n",
              "</svg>\n",
              "      </button>\n",
              "    </div>\n",
              "\n",
              "<style>\n",
              "  .colab-df-quickchart {\n",
              "    background-color: #E8F0FE;\n",
              "    border: none;\n",
              "    border-radius: 50%;\n",
              "    cursor: pointer;\n",
              "    display: none;\n",
              "    fill: #1967D2;\n",
              "    height: 32px;\n",
              "    padding: 0 0 0 0;\n",
              "    width: 32px;\n",
              "  }\n",
              "\n",
              "  .colab-df-quickchart:hover {\n",
              "    background-color: #E2EBFA;\n",
              "    box-shadow: 0px 1px 2px rgba(60, 64, 67, 0.3), 0px 1px 3px 1px rgba(60, 64, 67, 0.15);\n",
              "    fill: #174EA6;\n",
              "  }\n",
              "\n",
              "  [theme=dark] .colab-df-quickchart {\n",
              "    background-color: #3B4455;\n",
              "    fill: #D2E3FC;\n",
              "  }\n",
              "\n",
              "  [theme=dark] .colab-df-quickchart:hover {\n",
              "    background-color: #434B5C;\n",
              "    box-shadow: 0px 1px 3px 1px rgba(0, 0, 0, 0.15);\n",
              "    filter: drop-shadow(0px 1px 2px rgba(0, 0, 0, 0.3));\n",
              "    fill: #FFFFFF;\n",
              "  }\n",
              "</style>\n",
              "\n",
              "    <script>\n",
              "      async function quickchart(key) {\n",
              "        const containerElement = document.querySelector('#' + key);\n",
              "        const charts = await google.colab.kernel.invokeFunction(\n",
              "            'suggestCharts', [key], {});\n",
              "      }\n",
              "    </script>\n",
              "\n",
              "      <script>\n",
              "\n",
              "function displayQuickchartButton(domScope) {\n",
              "  let quickchartButtonEl =\n",
              "    domScope.querySelector('#df-ed2e31b2-62ad-46d2-9390-8d835caba2f1 button.colab-df-quickchart');\n",
              "  quickchartButtonEl.style.display =\n",
              "    google.colab.kernel.accessAllowed ? 'block' : 'none';\n",
              "}\n",
              "\n",
              "        displayQuickchartButton(document);\n",
              "      </script>\n",
              "      <style>\n",
              "    .colab-df-container {\n",
              "      display:flex;\n",
              "      flex-wrap:wrap;\n",
              "      gap: 12px;\n",
              "    }\n",
              "\n",
              "    .colab-df-convert {\n",
              "      background-color: #E8F0FE;\n",
              "      border: none;\n",
              "      border-radius: 50%;\n",
              "      cursor: pointer;\n",
              "      display: none;\n",
              "      fill: #1967D2;\n",
              "      height: 32px;\n",
              "      padding: 0 0 0 0;\n",
              "      width: 32px;\n",
              "    }\n",
              "\n",
              "    .colab-df-convert:hover {\n",
              "      background-color: #E2EBFA;\n",
              "      box-shadow: 0px 1px 2px rgba(60, 64, 67, 0.3), 0px 1px 3px 1px rgba(60, 64, 67, 0.15);\n",
              "      fill: #174EA6;\n",
              "    }\n",
              "\n",
              "    [theme=dark] .colab-df-convert {\n",
              "      background-color: #3B4455;\n",
              "      fill: #D2E3FC;\n",
              "    }\n",
              "\n",
              "    [theme=dark] .colab-df-convert:hover {\n",
              "      background-color: #434B5C;\n",
              "      box-shadow: 0px 1px 3px 1px rgba(0, 0, 0, 0.15);\n",
              "      filter: drop-shadow(0px 1px 2px rgba(0, 0, 0, 0.3));\n",
              "      fill: #FFFFFF;\n",
              "    }\n",
              "  </style>\n",
              "\n",
              "      <script>\n",
              "        const buttonEl =\n",
              "          document.querySelector('#df-f4a6cf40-6669-413e-ba9a-f11e7a3a929f button.colab-df-convert');\n",
              "        buttonEl.style.display =\n",
              "          google.colab.kernel.accessAllowed ? 'block' : 'none';\n",
              "\n",
              "        async function convertToInteractive(key) {\n",
              "          const element = document.querySelector('#df-f4a6cf40-6669-413e-ba9a-f11e7a3a929f');\n",
              "          const dataTable =\n",
              "            await google.colab.kernel.invokeFunction('convertToInteractive',\n",
              "                                                     [key], {});\n",
              "          if (!dataTable) return;\n",
              "\n",
              "          const docLinkHtml = 'Like what you see? Visit the ' +\n",
              "            '<a target=\"_blank\" href=https://colab.research.google.com/notebooks/data_table.ipynb>data table notebook</a>'\n",
              "            + ' to learn more about interactive tables.';\n",
              "          element.innerHTML = '';\n",
              "          dataTable['output_type'] = 'display_data';\n",
              "          await google.colab.output.renderOutput(dataTable, element);\n",
              "          const docLink = document.createElement('div');\n",
              "          docLink.innerHTML = docLinkHtml;\n",
              "          element.appendChild(docLink);\n",
              "        }\n",
              "      </script>\n",
              "    </div>\n",
              "  </div>\n"
            ]
          },
          "metadata": {},
          "execution_count": 55
        }
      ],
      "source": [
        "laptops = pd.read_csv('laptop_data.csv')\n",
        "laptops.head()\n",
        "#Loading and displaying the dataset"
      ]
    },
    {
      "cell_type": "markdown",
      "id": "dec4fb28",
      "metadata": {
        "id": "dec4fb28"
      },
      "source": [
        "## EDA"
      ]
    },
    {
      "cell_type": "code",
      "execution_count": 56,
      "id": "773376da",
      "metadata": {
        "colab": {
          "base_uri": "https://localhost:8080/"
        },
        "id": "773376da",
        "outputId": "3f8f85fc-b784-4446-b46c-8bb14d024048"
      },
      "outputs": [
        {
          "output_type": "execute_result",
          "data": {
            "text/plain": [
              "Index(['Unnamed: 0', 'Company', 'TypeName', 'Inches', 'ScreenResolution',\n",
              "       'Cpu', 'Ram', 'Memory', 'Gpu', 'OpSys', 'Weight', 'Price'],\n",
              "      dtype='object')"
            ]
          },
          "metadata": {},
          "execution_count": 56
        }
      ],
      "source": [
        "laptops.columns\n",
        "#dropping columns that are not needed"
      ]
    },
    {
      "cell_type": "code",
      "execution_count": 57,
      "id": "1ff48332",
      "metadata": {
        "id": "1ff48332"
      },
      "outputs": [],
      "source": [
        "laptops.drop(['Unnamed: 0'], axis=1, inplace=True)"
      ]
    },
    {
      "cell_type": "code",
      "execution_count": 58,
      "id": "370d410a",
      "metadata": {
        "colab": {
          "base_uri": "https://localhost:8080/"
        },
        "id": "370d410a",
        "outputId": "7399b33d-35be-4d9e-da7e-6f78f9e41d35"
      },
      "outputs": [
        {
          "output_type": "execute_result",
          "data": {
            "text/plain": [
              "(1303, 11)"
            ]
          },
          "metadata": {},
          "execution_count": 58
        }
      ],
      "source": [
        "laptops.shape"
      ]
    },
    {
      "cell_type": "code",
      "execution_count": 59,
      "id": "9f3cdb12",
      "metadata": {
        "colab": {
          "base_uri": "https://localhost:8080/"
        },
        "id": "9f3cdb12",
        "outputId": "1b0c2930-075f-43b1-82dd-e8c6dd0c43dc"
      },
      "outputs": [
        {
          "output_type": "stream",
          "name": "stdout",
          "text": [
            "<class 'pandas.core.frame.DataFrame'>\n",
            "RangeIndex: 1303 entries, 0 to 1302\n",
            "Data columns (total 11 columns):\n",
            " #   Column            Non-Null Count  Dtype  \n",
            "---  ------            --------------  -----  \n",
            " 0   Company           1303 non-null   object \n",
            " 1   TypeName          1303 non-null   object \n",
            " 2   Inches            1303 non-null   float64\n",
            " 3   ScreenResolution  1303 non-null   object \n",
            " 4   Cpu               1303 non-null   object \n",
            " 5   Ram               1303 non-null   object \n",
            " 6   Memory            1303 non-null   object \n",
            " 7   Gpu               1303 non-null   object \n",
            " 8   OpSys             1303 non-null   object \n",
            " 9   Weight            1303 non-null   object \n",
            " 10  Price             1303 non-null   float64\n",
            "dtypes: float64(2), object(9)\n",
            "memory usage: 112.1+ KB\n"
          ]
        }
      ],
      "source": [
        "laptops.info()"
      ]
    },
    {
      "cell_type": "code",
      "execution_count": 60,
      "id": "28c60322",
      "metadata": {
        "colab": {
          "base_uri": "https://localhost:8080/",
          "height": 300
        },
        "id": "28c60322",
        "outputId": "ac67aa74-a05f-48fb-f63e-7ed43c151c4e"
      },
      "outputs": [
        {
          "output_type": "execute_result",
          "data": {
            "text/plain": [
              "            Inches          Price\n",
              "count  1303.000000    1303.000000\n",
              "mean     15.017191   59870.042910\n",
              "std       1.426304   37243.201786\n",
              "min      10.100000    9270.720000\n",
              "25%      14.000000   31914.720000\n",
              "50%      15.600000   52054.560000\n",
              "75%      15.600000   79274.246400\n",
              "max      18.400000  324954.720000"
            ],
            "text/html": [
              "\n",
              "\n",
              "  <div id=\"df-4d764569-1fc1-4a8a-95d0-800d7aa4632c\">\n",
              "    <div class=\"colab-df-container\">\n",
              "      <div>\n",
              "<style scoped>\n",
              "    .dataframe tbody tr th:only-of-type {\n",
              "        vertical-align: middle;\n",
              "    }\n",
              "\n",
              "    .dataframe tbody tr th {\n",
              "        vertical-align: top;\n",
              "    }\n",
              "\n",
              "    .dataframe thead th {\n",
              "        text-align: right;\n",
              "    }\n",
              "</style>\n",
              "<table border=\"1\" class=\"dataframe\">\n",
              "  <thead>\n",
              "    <tr style=\"text-align: right;\">\n",
              "      <th></th>\n",
              "      <th>Inches</th>\n",
              "      <th>Price</th>\n",
              "    </tr>\n",
              "  </thead>\n",
              "  <tbody>\n",
              "    <tr>\n",
              "      <th>count</th>\n",
              "      <td>1303.000000</td>\n",
              "      <td>1303.000000</td>\n",
              "    </tr>\n",
              "    <tr>\n",
              "      <th>mean</th>\n",
              "      <td>15.017191</td>\n",
              "      <td>59870.042910</td>\n",
              "    </tr>\n",
              "    <tr>\n",
              "      <th>std</th>\n",
              "      <td>1.426304</td>\n",
              "      <td>37243.201786</td>\n",
              "    </tr>\n",
              "    <tr>\n",
              "      <th>min</th>\n",
              "      <td>10.100000</td>\n",
              "      <td>9270.720000</td>\n",
              "    </tr>\n",
              "    <tr>\n",
              "      <th>25%</th>\n",
              "      <td>14.000000</td>\n",
              "      <td>31914.720000</td>\n",
              "    </tr>\n",
              "    <tr>\n",
              "      <th>50%</th>\n",
              "      <td>15.600000</td>\n",
              "      <td>52054.560000</td>\n",
              "    </tr>\n",
              "    <tr>\n",
              "      <th>75%</th>\n",
              "      <td>15.600000</td>\n",
              "      <td>79274.246400</td>\n",
              "    </tr>\n",
              "    <tr>\n",
              "      <th>max</th>\n",
              "      <td>18.400000</td>\n",
              "      <td>324954.720000</td>\n",
              "    </tr>\n",
              "  </tbody>\n",
              "</table>\n",
              "</div>\n",
              "      <button class=\"colab-df-convert\" onclick=\"convertToInteractive('df-4d764569-1fc1-4a8a-95d0-800d7aa4632c')\"\n",
              "              title=\"Convert this dataframe to an interactive table.\"\n",
              "              style=\"display:none;\">\n",
              "\n",
              "  <svg xmlns=\"http://www.w3.org/2000/svg\" height=\"24px\"viewBox=\"0 0 24 24\"\n",
              "       width=\"24px\">\n",
              "    <path d=\"M0 0h24v24H0V0z\" fill=\"none\"/>\n",
              "    <path d=\"M18.56 5.44l.94 2.06.94-2.06 2.06-.94-2.06-.94-.94-2.06-.94 2.06-2.06.94zm-11 1L8.5 8.5l.94-2.06 2.06-.94-2.06-.94L8.5 2.5l-.94 2.06-2.06.94zm10 10l.94 2.06.94-2.06 2.06-.94-2.06-.94-.94-2.06-.94 2.06-2.06.94z\"/><path d=\"M17.41 7.96l-1.37-1.37c-.4-.4-.92-.59-1.43-.59-.52 0-1.04.2-1.43.59L10.3 9.45l-7.72 7.72c-.78.78-.78 2.05 0 2.83L4 21.41c.39.39.9.59 1.41.59.51 0 1.02-.2 1.41-.59l7.78-7.78 2.81-2.81c.8-.78.8-2.07 0-2.86zM5.41 20L4 18.59l7.72-7.72 1.47 1.35L5.41 20z\"/>\n",
              "  </svg>\n",
              "      </button>\n",
              "\n",
              "\n",
              "\n",
              "    <div id=\"df-c1f58928-a6b0-4b58-854c-5400df8ca82b\">\n",
              "      <button class=\"colab-df-quickchart\" onclick=\"quickchart('df-c1f58928-a6b0-4b58-854c-5400df8ca82b')\"\n",
              "              title=\"Suggest charts.\"\n",
              "              style=\"display:none;\">\n",
              "\n",
              "<svg xmlns=\"http://www.w3.org/2000/svg\" height=\"24px\"viewBox=\"0 0 24 24\"\n",
              "     width=\"24px\">\n",
              "    <g>\n",
              "        <path d=\"M19 3H5c-1.1 0-2 .9-2 2v14c0 1.1.9 2 2 2h14c1.1 0 2-.9 2-2V5c0-1.1-.9-2-2-2zM9 17H7v-7h2v7zm4 0h-2V7h2v10zm4 0h-2v-4h2v4z\"/>\n",
              "    </g>\n",
              "</svg>\n",
              "      </button>\n",
              "    </div>\n",
              "\n",
              "<style>\n",
              "  .colab-df-quickchart {\n",
              "    background-color: #E8F0FE;\n",
              "    border: none;\n",
              "    border-radius: 50%;\n",
              "    cursor: pointer;\n",
              "    display: none;\n",
              "    fill: #1967D2;\n",
              "    height: 32px;\n",
              "    padding: 0 0 0 0;\n",
              "    width: 32px;\n",
              "  }\n",
              "\n",
              "  .colab-df-quickchart:hover {\n",
              "    background-color: #E2EBFA;\n",
              "    box-shadow: 0px 1px 2px rgba(60, 64, 67, 0.3), 0px 1px 3px 1px rgba(60, 64, 67, 0.15);\n",
              "    fill: #174EA6;\n",
              "  }\n",
              "\n",
              "  [theme=dark] .colab-df-quickchart {\n",
              "    background-color: #3B4455;\n",
              "    fill: #D2E3FC;\n",
              "  }\n",
              "\n",
              "  [theme=dark] .colab-df-quickchart:hover {\n",
              "    background-color: #434B5C;\n",
              "    box-shadow: 0px 1px 3px 1px rgba(0, 0, 0, 0.15);\n",
              "    filter: drop-shadow(0px 1px 2px rgba(0, 0, 0, 0.3));\n",
              "    fill: #FFFFFF;\n",
              "  }\n",
              "</style>\n",
              "\n",
              "    <script>\n",
              "      async function quickchart(key) {\n",
              "        const containerElement = document.querySelector('#' + key);\n",
              "        const charts = await google.colab.kernel.invokeFunction(\n",
              "            'suggestCharts', [key], {});\n",
              "      }\n",
              "    </script>\n",
              "\n",
              "      <script>\n",
              "\n",
              "function displayQuickchartButton(domScope) {\n",
              "  let quickchartButtonEl =\n",
              "    domScope.querySelector('#df-c1f58928-a6b0-4b58-854c-5400df8ca82b button.colab-df-quickchart');\n",
              "  quickchartButtonEl.style.display =\n",
              "    google.colab.kernel.accessAllowed ? 'block' : 'none';\n",
              "}\n",
              "\n",
              "        displayQuickchartButton(document);\n",
              "      </script>\n",
              "      <style>\n",
              "    .colab-df-container {\n",
              "      display:flex;\n",
              "      flex-wrap:wrap;\n",
              "      gap: 12px;\n",
              "    }\n",
              "\n",
              "    .colab-df-convert {\n",
              "      background-color: #E8F0FE;\n",
              "      border: none;\n",
              "      border-radius: 50%;\n",
              "      cursor: pointer;\n",
              "      display: none;\n",
              "      fill: #1967D2;\n",
              "      height: 32px;\n",
              "      padding: 0 0 0 0;\n",
              "      width: 32px;\n",
              "    }\n",
              "\n",
              "    .colab-df-convert:hover {\n",
              "      background-color: #E2EBFA;\n",
              "      box-shadow: 0px 1px 2px rgba(60, 64, 67, 0.3), 0px 1px 3px 1px rgba(60, 64, 67, 0.15);\n",
              "      fill: #174EA6;\n",
              "    }\n",
              "\n",
              "    [theme=dark] .colab-df-convert {\n",
              "      background-color: #3B4455;\n",
              "      fill: #D2E3FC;\n",
              "    }\n",
              "\n",
              "    [theme=dark] .colab-df-convert:hover {\n",
              "      background-color: #434B5C;\n",
              "      box-shadow: 0px 1px 3px 1px rgba(0, 0, 0, 0.15);\n",
              "      filter: drop-shadow(0px 1px 2px rgba(0, 0, 0, 0.3));\n",
              "      fill: #FFFFFF;\n",
              "    }\n",
              "  </style>\n",
              "\n",
              "      <script>\n",
              "        const buttonEl =\n",
              "          document.querySelector('#df-4d764569-1fc1-4a8a-95d0-800d7aa4632c button.colab-df-convert');\n",
              "        buttonEl.style.display =\n",
              "          google.colab.kernel.accessAllowed ? 'block' : 'none';\n",
              "\n",
              "        async function convertToInteractive(key) {\n",
              "          const element = document.querySelector('#df-4d764569-1fc1-4a8a-95d0-800d7aa4632c');\n",
              "          const dataTable =\n",
              "            await google.colab.kernel.invokeFunction('convertToInteractive',\n",
              "                                                     [key], {});\n",
              "          if (!dataTable) return;\n",
              "\n",
              "          const docLinkHtml = 'Like what you see? Visit the ' +\n",
              "            '<a target=\"_blank\" href=https://colab.research.google.com/notebooks/data_table.ipynb>data table notebook</a>'\n",
              "            + ' to learn more about interactive tables.';\n",
              "          element.innerHTML = '';\n",
              "          dataTable['output_type'] = 'display_data';\n",
              "          await google.colab.output.renderOutput(dataTable, element);\n",
              "          const docLink = document.createElement('div');\n",
              "          docLink.innerHTML = docLinkHtml;\n",
              "          element.appendChild(docLink);\n",
              "        }\n",
              "      </script>\n",
              "    </div>\n",
              "  </div>\n"
            ]
          },
          "metadata": {},
          "execution_count": 60
        }
      ],
      "source": [
        "laptops.describe()"
      ]
    },
    {
      "cell_type": "markdown",
      "id": "49495332",
      "metadata": {
        "id": "49495332"
      },
      "source": [
        "### Ram"
      ]
    },
    {
      "cell_type": "code",
      "execution_count": 61,
      "id": "435a20a7",
      "metadata": {
        "colab": {
          "base_uri": "https://localhost:8080/"
        },
        "id": "435a20a7",
        "outputId": "a5f8ac24-c47b-4690-9511-430f96a07939"
      },
      "outputs": [
        {
          "output_type": "execute_result",
          "data": {
            "text/plain": [
              "8GB     619\n",
              "4GB     375\n",
              "16GB    200\n",
              "6GB      41\n",
              "12GB     25\n",
              "2GB      22\n",
              "32GB     17\n",
              "24GB      3\n",
              "64GB      1\n",
              "Name: Ram, dtype: int64"
            ]
          },
          "metadata": {},
          "execution_count": 61
        }
      ],
      "source": [
        "laptops['Ram'].value_counts()"
      ]
    },
    {
      "cell_type": "code",
      "execution_count": 62,
      "id": "9305f441",
      "metadata": {
        "id": "9305f441"
      },
      "outputs": [],
      "source": [
        "laptops['Ram'] = laptops['Ram'].str.replace('GB', '')\n",
        "#Removing GB from Ram column"
      ]
    },
    {
      "cell_type": "code",
      "execution_count": 63,
      "id": "f246abbd",
      "metadata": {
        "colab": {
          "base_uri": "https://localhost:8080/"
        },
        "id": "f246abbd",
        "outputId": "63a453b0-631e-4ca7-d3e6-8ca0d9d6bb17"
      },
      "outputs": [
        {
          "output_type": "execute_result",
          "data": {
            "text/plain": [
              "Company              object\n",
              "TypeName             object\n",
              "Inches              float64\n",
              "ScreenResolution     object\n",
              "Cpu                  object\n",
              "Ram                   int64\n",
              "Memory               object\n",
              "Gpu                  object\n",
              "OpSys                object\n",
              "Weight               object\n",
              "Price               float64\n",
              "dtype: object"
            ]
          },
          "metadata": {},
          "execution_count": 63
        }
      ],
      "source": [
        "laptops['Ram'] = laptops['Ram'].astype(int)\n",
        "laptops.dtypes\n",
        "#Changing the type of Ram to integer"
      ]
    },
    {
      "cell_type": "markdown",
      "id": "e6b6a512",
      "metadata": {
        "id": "e6b6a512"
      },
      "source": [
        "### Weight"
      ]
    },
    {
      "cell_type": "code",
      "execution_count": 64,
      "id": "ef471a74",
      "metadata": {
        "colab": {
          "base_uri": "https://localhost:8080/"
        },
        "id": "ef471a74",
        "outputId": "bdae4894-8282-4ac4-9851-337aa55b33cf"
      },
      "outputs": [
        {
          "output_type": "execute_result",
          "data": {
            "text/plain": [
              "array(['1.37kg', '1.34kg', '1.86kg', '1.83kg', '2.1kg', '2.04kg', '1.3kg',\n",
              "       '1.6kg', '2.2kg', '0.92kg', '1.22kg', '0.98kg', '2.5kg', '1.62kg',\n",
              "       '1.91kg', '2.3kg', '1.35kg', '1.88kg', '1.89kg', '1.65kg',\n",
              "       '2.71kg', '1.2kg', '1.44kg', '2.8kg', '2kg', '2.65kg', '2.77kg',\n",
              "       '3.2kg', '0.69kg', '1.49kg', '2.4kg', '2.13kg', '2.43kg', '1.7kg',\n",
              "       '1.4kg', '1.8kg', '1.9kg', '3kg', '1.252kg', '2.7kg', '2.02kg',\n",
              "       '1.63kg', '1.96kg', '1.21kg', '2.45kg', '1.25kg', '1.5kg',\n",
              "       '2.62kg', '1.38kg', '1.58kg', '1.85kg', '1.23kg', '1.26kg',\n",
              "       '2.16kg', '2.36kg', '2.05kg', '1.32kg', '1.75kg', '0.97kg',\n",
              "       '2.9kg', '2.56kg', '1.48kg', '1.74kg', '1.1kg', '1.56kg', '2.03kg',\n",
              "       '1.05kg', '4.4kg', '1.90kg', '1.29kg', '2.0kg', '1.95kg', '2.06kg',\n",
              "       '1.12kg', '1.42kg', '3.49kg', '3.35kg', '2.23kg', '4.42kg',\n",
              "       '2.69kg', '2.37kg', '4.7kg', '3.6kg', '2.08kg', '4.3kg', '1.68kg',\n",
              "       '1.41kg', '4.14kg', '2.18kg', '2.24kg', '2.67kg', '2.14kg',\n",
              "       '1.36kg', '2.25kg', '2.15kg', '2.19kg', '2.54kg', '3.42kg',\n",
              "       '1.28kg', '2.33kg', '1.45kg', '2.79kg', '1.84kg', '2.6kg',\n",
              "       '2.26kg', '3.25kg', '1.59kg', '1.13kg', '1.78kg', '1.10kg',\n",
              "       '1.15kg', '1.27kg', '1.43kg', '2.31kg', '1.16kg', '1.64kg',\n",
              "       '2.17kg', '1.47kg', '3.78kg', '1.79kg', '0.91kg', '1.99kg',\n",
              "       '4.33kg', '1.93kg', '1.87kg', '2.63kg', '3.4kg', '3.14kg',\n",
              "       '1.94kg', '1.24kg', '4.6kg', '4.5kg', '2.73kg', '1.39kg', '2.29kg',\n",
              "       '2.59kg', '2.94kg', '1.14kg', '3.8kg', '3.31kg', '1.09kg',\n",
              "       '3.21kg', '1.19kg', '1.98kg', '1.17kg', '4.36kg', '1.71kg',\n",
              "       '2.32kg', '4.2kg', '1.55kg', '0.81kg', '1.18kg', '2.72kg',\n",
              "       '1.31kg', '0.920kg', '3.74kg', '1.76kg', '1.54kg', '2.83kg',\n",
              "       '2.07kg', '2.38kg', '3.58kg', '1.08kg', '2.20kg', '2.75kg',\n",
              "       '1.70kg', '2.99kg', '1.11kg', '2.09kg', '4kg', '3.0kg', '0.99kg',\n",
              "       '3.52kg', '2.591kg', '2.21kg', '3.3kg', '2.191kg', '2.34kg',\n",
              "       '4.0kg'], dtype=object)"
            ]
          },
          "metadata": {},
          "execution_count": 64
        }
      ],
      "source": [
        "laptops['Weight'].unique()"
      ]
    },
    {
      "cell_type": "code",
      "execution_count": 65,
      "id": "740a8e26",
      "metadata": {
        "id": "740a8e26"
      },
      "outputs": [],
      "source": [
        "laptops['Weight'] = laptops['Weight'].str.replace('kg', '')\n",
        "#Removing 'kg'"
      ]
    },
    {
      "cell_type": "code",
      "execution_count": 66,
      "id": "6aefc4a0",
      "metadata": {
        "colab": {
          "base_uri": "https://localhost:8080/"
        },
        "id": "6aefc4a0",
        "outputId": "a2b3104f-a5d7-4657-eb41-201c6ed2000e"
      },
      "outputs": [
        {
          "output_type": "execute_result",
          "data": {
            "text/plain": [
              "Company              object\n",
              "TypeName             object\n",
              "Inches              float64\n",
              "ScreenResolution     object\n",
              "Cpu                  object\n",
              "Ram                   int64\n",
              "Memory               object\n",
              "Gpu                  object\n",
              "OpSys                object\n",
              "Weight              float64\n",
              "Price               float64\n",
              "dtype: object"
            ]
          },
          "metadata": {},
          "execution_count": 66
        }
      ],
      "source": [
        "laptops['Weight'] = laptops['Weight'].astype(float)\n",
        "#Changing type\n",
        "laptops.dtypes"
      ]
    },
    {
      "cell_type": "markdown",
      "id": "b070796c",
      "metadata": {
        "id": "b070796c"
      },
      "source": [
        "### Screen Resolution"
      ]
    },
    {
      "cell_type": "code",
      "execution_count": 67,
      "id": "19f23b91",
      "metadata": {
        "colab": {
          "base_uri": "https://localhost:8080/"
        },
        "id": "19f23b91",
        "outputId": "07e6eb86-aa86-4e2d-9a52-bbe10dbb4518"
      },
      "outputs": [
        {
          "output_type": "execute_result",
          "data": {
            "text/plain": [
              "Full HD 1920x1080                                507\n",
              "1366x768                                         281\n",
              "IPS Panel Full HD 1920x1080                      230\n",
              "IPS Panel Full HD / Touchscreen 1920x1080         53\n",
              "Full HD / Touchscreen 1920x1080                   47\n",
              "1600x900                                          23\n",
              "Touchscreen 1366x768                              16\n",
              "Quad HD+ / Touchscreen 3200x1800                  15\n",
              "IPS Panel 4K Ultra HD 3840x2160                   12\n",
              "IPS Panel 4K Ultra HD / Touchscreen 3840x2160     11\n",
              "4K Ultra HD / Touchscreen 3840x2160               10\n",
              "4K Ultra HD 3840x2160                              7\n",
              "Touchscreen 2560x1440                              7\n",
              "IPS Panel 1366x768                                 7\n",
              "IPS Panel Quad HD+ / Touchscreen 3200x1800         6\n",
              "IPS Panel Retina Display 2560x1600                 6\n",
              "IPS Panel Retina Display 2304x1440                 6\n",
              "Touchscreen 2256x1504                              6\n",
              "IPS Panel Touchscreen 2560x1440                    5\n",
              "IPS Panel Retina Display 2880x1800                 4\n",
              "IPS Panel Touchscreen 1920x1200                    4\n",
              "1440x900                                           4\n",
              "IPS Panel 2560x1440                                4\n",
              "IPS Panel Quad HD+ 2560x1440                       3\n",
              "Quad HD+ 3200x1800                                 3\n",
              "1920x1080                                          3\n",
              "Touchscreen 2400x1600                              3\n",
              "2560x1440                                          3\n",
              "IPS Panel Touchscreen 1366x768                     3\n",
              "IPS Panel Touchscreen / 4K Ultra HD 3840x2160      2\n",
              "IPS Panel Full HD 2160x1440                        2\n",
              "IPS Panel Quad HD+ 3200x1800                       2\n",
              "IPS Panel Retina Display 2736x1824                 1\n",
              "IPS Panel Full HD 1920x1200                        1\n",
              "IPS Panel Full HD 2560x1440                        1\n",
              "IPS Panel Full HD 1366x768                         1\n",
              "Touchscreen / Full HD 1920x1080                    1\n",
              "Touchscreen / Quad HD+ 3200x1800                   1\n",
              "Touchscreen / 4K Ultra HD 3840x2160                1\n",
              "IPS Panel Touchscreen 2400x1600                    1\n",
              "Name: ScreenResolution, dtype: int64"
            ]
          },
          "metadata": {},
          "execution_count": 67
        }
      ],
      "source": [
        "laptops['ScreenResolution'].value_counts()"
      ]
    },
    {
      "cell_type": "code",
      "execution_count": 68,
      "id": "4933af2b",
      "metadata": {
        "id": "4933af2b"
      },
      "outputs": [],
      "source": [
        "laptops['Touchscreen'] = laptops['ScreenResolution'].str.contains('Touchscreen')\n",
        "laptops['Full HD'] = laptops['ScreenResolution'].str.contains('Full HD')\n",
        "laptops['4K'] = laptops['ScreenResolution'].str.contains('4K Ultra HD')\n",
        "laptops['IPS panel'] = laptops['ScreenResolution'].str.contains('IPS Panel')\n",
        "laptops['Quad HD'] = laptops['ScreenResolution'].str.contains('Quad HD')\n",
        "#creating columns to show what type of screen given laptop has"
      ]
    },
    {
      "cell_type": "code",
      "execution_count": 69,
      "id": "fb60a3e0",
      "metadata": {
        "id": "fb60a3e0"
      },
      "outputs": [],
      "source": [
        "#Removing the screen names from ScreenResolution and leaving only resolution\n",
        "laptops['ScreenResolution'] = laptops['ScreenResolution'].apply(lambda x: x.split(' ')[-1])"
      ]
    },
    {
      "cell_type": "code",
      "execution_count": 70,
      "id": "e59081c7",
      "metadata": {
        "id": "e59081c7"
      },
      "outputs": [],
      "source": [
        "#Dividing ScreenResolution into width and length columns\n",
        "laptops['Screen_x'] = laptops['ScreenResolution'].str.split('x').str[0].astype(int)\n",
        "laptops['Screen_y'] = laptops['ScreenResolution'].str.split('x').str[1].astype(int)"
      ]
    },
    {
      "cell_type": "code",
      "execution_count": 71,
      "id": "df15bdc4",
      "metadata": {
        "id": "df15bdc4"
      },
      "outputs": [],
      "source": [
        "laptops.drop(['ScreenResolution'], axis=1, inplace=True)\n",
        "#Dropping 'ScreenResolution' because it isn't needed anymore"
      ]
    },
    {
      "cell_type": "markdown",
      "id": "a8646a42",
      "metadata": {
        "id": "a8646a42"
      },
      "source": [
        "### Memory"
      ]
    },
    {
      "cell_type": "code",
      "execution_count": 72,
      "id": "b6024c38",
      "metadata": {
        "colab": {
          "base_uri": "https://localhost:8080/"
        },
        "id": "b6024c38",
        "outputId": "74d2231e-43fb-4934-c09d-96e0c34aebc0"
      },
      "outputs": [
        {
          "output_type": "execute_result",
          "data": {
            "text/plain": [
              "256GB SSD                        412\n",
              "1TB HDD                          223\n",
              "500GB HDD                        132\n",
              "512GB SSD                        118\n",
              "128GB SSD +  1TB HDD              94\n",
              "128GB SSD                         76\n",
              "256GB SSD +  1TB HDD              73\n",
              "32GB Flash Storage                38\n",
              "2TB HDD                           16\n",
              "64GB Flash Storage                15\n",
              "512GB SSD +  1TB HDD              14\n",
              "1TB SSD                           14\n",
              "256GB SSD +  2TB HDD              10\n",
              "1.0TB Hybrid                       9\n",
              "256GB Flash Storage                8\n",
              "16GB Flash Storage                 7\n",
              "32GB SSD                           6\n",
              "180GB SSD                          5\n",
              "128GB Flash Storage                4\n",
              "512GB SSD +  2TB HDD               3\n",
              "16GB SSD                           3\n",
              "512GB Flash Storage                2\n",
              "1TB SSD +  1TB HDD                 2\n",
              "256GB SSD +  500GB HDD             2\n",
              "128GB SSD +  2TB HDD               2\n",
              "256GB SSD +  256GB SSD             2\n",
              "512GB SSD +  256GB SSD             1\n",
              "512GB SSD +  512GB SSD             1\n",
              "64GB Flash Storage +  1TB HDD      1\n",
              "1TB HDD +  1TB HDD                 1\n",
              "32GB HDD                           1\n",
              "64GB SSD                           1\n",
              "128GB HDD                          1\n",
              "240GB SSD                          1\n",
              "8GB SSD                            1\n",
              "508GB Hybrid                       1\n",
              "1.0TB HDD                          1\n",
              "512GB SSD +  1.0TB Hybrid          1\n",
              "256GB SSD +  1.0TB Hybrid          1\n",
              "Name: Memory, dtype: int64"
            ]
          },
          "metadata": {},
          "execution_count": 72
        }
      ],
      "source": [
        "laptops['Memory'].value_counts()"
      ]
    },
    {
      "cell_type": "code",
      "execution_count": 73,
      "id": "a2cf32cb",
      "metadata": {
        "id": "a2cf32cb"
      },
      "outputs": [],
      "source": [
        "laptops['Memory'] = laptops['Memory'].str.replace('\\.0','', regex=True)\n",
        "# Removing '.0' from rows with TB values\n",
        "\n",
        "laptops['Memory'] = laptops['Memory'].str.replace('GB','')\n",
        "laptops['Memory'] = laptops['Memory'].str.replace('TB','000')\n",
        "# Removing 'GB' and replacing 'TB' with '000' to keep the same measures"
      ]
    },
    {
      "cell_type": "code",
      "execution_count": 74,
      "id": "3b49b786",
      "metadata": {
        "id": "3b49b786"
      },
      "outputs": [],
      "source": [
        "laptops['Memory'] = laptops['Memory'].apply(lambda x: x.split()[:2])\n",
        "# Leaving only primary memory disks in th dataframe"
      ]
    },
    {
      "cell_type": "code",
      "execution_count": 75,
      "id": "7c04cfad",
      "metadata": {
        "id": "7c04cfad"
      },
      "outputs": [],
      "source": [
        "laptops['HDD'] = laptops['Memory'].apply(lambda x: x[0] if 'HDD' in x else '0')\n",
        "laptops['SSD'] = laptops['Memory'].apply(lambda x: x[0] if 'SSD' in x else '0')\n",
        "# Applying SSD or HDD memory to particular columns\n",
        "\n",
        "laptops.drop(['Memory'], axis=1, inplace=True)\n",
        "# Dropping 'Memory' column because it isn't useful anymore"
      ]
    },
    {
      "cell_type": "code",
      "execution_count": 76,
      "id": "3b4f47f8",
      "metadata": {
        "scrolled": true,
        "id": "3b4f47f8"
      },
      "outputs": [],
      "source": [
        "laptops['HDD'] = laptops['HDD'].astype(int)\n",
        "laptops['SSD'] = laptops['SSD'].astype(int)\n",
        "# Changing type of 'HDD' and 'SSD' columns to integer"
      ]
    },
    {
      "cell_type": "markdown",
      "id": "87966ebe",
      "metadata": {
        "id": "87966ebe"
      },
      "source": [
        "### CPU"
      ]
    },
    {
      "cell_type": "code",
      "execution_count": 77,
      "id": "a9dd189e",
      "metadata": {
        "colab": {
          "base_uri": "https://localhost:8080/"
        },
        "id": "a9dd189e",
        "outputId": "c4d2524b-a91b-452d-ed50-7936b859602a"
      },
      "outputs": [
        {
          "output_type": "execute_result",
          "data": {
            "text/plain": [
              "array(['Intel Core i5 2.3GHz', 'Intel Core i5 1.8GHz',\n",
              "       'Intel Core i5 7200U 2.5GHz', 'Intel Core i7 2.7GHz',\n",
              "       'Intel Core i5 3.1GHz', 'AMD A9-Series 9420 3GHz',\n",
              "       'Intel Core i7 2.2GHz', 'Intel Core i7 8550U 1.8GHz',\n",
              "       'Intel Core i5 8250U 1.6GHz', 'Intel Core i3 6006U 2GHz',\n",
              "       'Intel Core i7 2.8GHz', 'Intel Core M m3 1.2GHz',\n",
              "       'Intel Core i7 7500U 2.7GHz', 'Intel Core i7 2.9GHz',\n",
              "       'Intel Core i3 7100U 2.4GHz', 'Intel Atom x5-Z8350 1.44GHz',\n",
              "       'Intel Core i5 7300HQ 2.5GHz', 'AMD E-Series E2-9000e 1.5GHz',\n",
              "       'Intel Core i5 1.6GHz', 'Intel Core i7 8650U 1.9GHz',\n",
              "       'Intel Atom x5-Z8300 1.44GHz', 'AMD E-Series E2-6110 1.5GHz',\n",
              "       'AMD A6-Series 9220 2.5GHz',\n",
              "       'Intel Celeron Dual Core N3350 1.1GHz',\n",
              "       'Intel Core i3 7130U 2.7GHz', 'Intel Core i7 7700HQ 2.8GHz',\n",
              "       'Intel Core i5 2.0GHz', 'AMD Ryzen 1700 3GHz',\n",
              "       'Intel Pentium Quad Core N4200 1.1GHz',\n",
              "       'Intel Atom x5-Z8550 1.44GHz',\n",
              "       'Intel Celeron Dual Core N3060 1.6GHz', 'Intel Core i5 1.3GHz',\n",
              "       'AMD FX 9830P 3GHz', 'Intel Core i7 7560U 2.4GHz',\n",
              "       'AMD E-Series 6110 1.5GHz', 'Intel Core i5 6200U 2.3GHz',\n",
              "       'Intel Core M 6Y75 1.2GHz', 'Intel Core i5 7500U 2.7GHz',\n",
              "       'Intel Core i3 6006U 2.2GHz', 'AMD A6-Series 9220 2.9GHz',\n",
              "       'Intel Core i7 6920HQ 2.9GHz', 'Intel Core i5 7Y54 1.2GHz',\n",
              "       'Intel Core i7 7820HK 2.9GHz', 'Intel Xeon E3-1505M V6 3GHz',\n",
              "       'Intel Core i7 6500U 2.5GHz', 'AMD E-Series 9000e 1.5GHz',\n",
              "       'AMD A10-Series A10-9620P 2.5GHz', 'AMD A6-Series A6-9220 2.5GHz',\n",
              "       'Intel Core i5 2.9GHz', 'Intel Core i7 6600U 2.6GHz',\n",
              "       'Intel Core i3 6006U 2.0GHz',\n",
              "       'Intel Celeron Dual Core 3205U 1.5GHz',\n",
              "       'Intel Core i7 7820HQ 2.9GHz', 'AMD A10-Series 9600P 2.4GHz',\n",
              "       'Intel Core i7 7600U 2.8GHz', 'AMD A8-Series 7410 2.2GHz',\n",
              "       'Intel Celeron Dual Core 3855U 1.6GHz',\n",
              "       'Intel Pentium Quad Core N3710 1.6GHz',\n",
              "       'AMD A12-Series 9720P 2.7GHz', 'Intel Core i5 7300U 2.6GHz',\n",
              "       'AMD A12-Series 9720P 3.6GHz',\n",
              "       'Intel Celeron Quad Core N3450 1.1GHz',\n",
              "       'Intel Celeron Dual Core N3060 1.60GHz',\n",
              "       'Intel Core i5 6440HQ 2.6GHz', 'Intel Core i7 6820HQ 2.7GHz',\n",
              "       'AMD Ryzen 1600 3.2GHz', 'Intel Core i7 7Y75 1.3GHz',\n",
              "       'Intel Core i5 7440HQ 2.8GHz', 'Intel Core i7 7660U 2.5GHz',\n",
              "       'Intel Core i7 7700HQ 2.7GHz', 'Intel Core M m3-7Y30 2.2GHz',\n",
              "       'Intel Core i5 7Y57 1.2GHz', 'Intel Core i7 6700HQ 2.6GHz',\n",
              "       'Intel Core i3 6100U 2.3GHz', 'AMD A10-Series 9620P 2.5GHz',\n",
              "       'AMD E-Series 7110 1.8GHz', 'Intel Celeron Dual Core N3350 2.0GHz',\n",
              "       'AMD A9-Series A9-9420 3GHz', 'Intel Core i7 6820HK 2.7GHz',\n",
              "       'Intel Core M 7Y30 1.0GHz', 'Intel Xeon E3-1535M v6 3.1GHz',\n",
              "       'Intel Celeron Quad Core N3160 1.6GHz',\n",
              "       'Intel Core i5 6300U 2.4GHz', 'Intel Core i3 6100U 2.1GHz',\n",
              "       'AMD E-Series E2-9000 2.2GHz',\n",
              "       'Intel Celeron Dual Core N3050 1.6GHz',\n",
              "       'Intel Core M M3-6Y30 0.9GHz', 'AMD A9-Series 9420 2.9GHz',\n",
              "       'Intel Core i5 6300HQ 2.3GHz', 'AMD A6-Series 7310 2GHz',\n",
              "       'Intel Atom Z8350 1.92GHz', 'Intel Xeon E3-1535M v5 2.9GHz',\n",
              "       'Intel Core i5 6260U 1.8GHz',\n",
              "       'Intel Pentium Dual Core N4200 1.1GHz',\n",
              "       'Intel Celeron Quad Core N3710 1.6GHz', 'Intel Core M 1.2GHz',\n",
              "       'AMD A12-Series 9700P 2.5GHz', 'Intel Core i7 7500U 2.5GHz',\n",
              "       'Intel Pentium Dual Core 4405U 2.1GHz',\n",
              "       'AMD A4-Series 7210 2.2GHz', 'Intel Core i7 6560U 2.2GHz',\n",
              "       'Intel Core M m7-6Y75 1.2GHz', 'AMD FX 8800P 2.1GHz',\n",
              "       'Intel Core M M7-6Y75 1.2GHz', 'Intel Core i5 7200U 2.50GHz',\n",
              "       'Intel Core i5 7200U 2.70GHz', 'Intel Atom X5-Z8350 1.44GHz',\n",
              "       'Intel Core i5 7200U 2.7GHz', 'Intel Core M 1.1GHz',\n",
              "       'Intel Pentium Dual Core 4405Y 1.5GHz',\n",
              "       'Intel Pentium Quad Core N3700 1.6GHz', 'Intel Core M 6Y54 1.1GHz',\n",
              "       'Intel Core i7 6500U 2.50GHz',\n",
              "       'Intel Celeron Dual Core N3350 2GHz',\n",
              "       'Samsung Cortex A72&A53 2.0GHz', 'AMD E-Series 9000 2.2GHz',\n",
              "       'Intel Core M 6Y30 0.9GHz', 'AMD A9-Series 9410 2.9GHz'],\n",
              "      dtype=object)"
            ]
          },
          "metadata": {},
          "execution_count": 77
        }
      ],
      "source": [
        "laptops['Cpu'].unique()"
      ]
    },
    {
      "cell_type": "code",
      "execution_count": 78,
      "id": "ec999e83",
      "metadata": {
        "id": "ec999e83"
      },
      "outputs": [],
      "source": [
        "laptops['Cpu'] = laptops['Cpu'].apply(lambda x: x.rsplit(' ', 1)[0])\n",
        "# Removing GHz from CPUs\n",
        "\n",
        "laptops['Cpu'] = laptops['Cpu'].apply(lambda x: x.split(' ')[:3] if 'Intel' in x\n",
        "                                      else (x.split(' ')[:2] if 'AMD' in x else x))\n",
        "# Leaving only the first few keywords in CPU column\n",
        "\n",
        "laptops['Cpu'] = laptops['Cpu'].apply(lambda x: ' '.join(x))\n",
        "# Joining the strings in the rows together"
      ]
    },
    {
      "cell_type": "code",
      "execution_count": 79,
      "id": "162875f3",
      "metadata": {
        "colab": {
          "base_uri": "https://localhost:8080/"
        },
        "id": "162875f3",
        "outputId": "2627d226-3979-47bc-9965-e3fd5bce0c09"
      },
      "outputs": [
        {
          "output_type": "execute_result",
          "data": {
            "text/plain": [
              "Intel Core i7                                  527\n",
              "Intel Core i5                                  423\n",
              "Intel Core i3                                  136\n",
              "Intel Celeron Dual                              80\n",
              "Intel Pentium Quad                              27\n",
              "Intel Core M                                    19\n",
              "AMD A9-Series                                   17\n",
              "AMD A6-Series                                   11\n",
              "AMD E-Series                                     9\n",
              "Intel Celeron Quad                               8\n",
              "AMD A12-Series                                   8\n",
              "AMD A10-Series                                   6\n",
              "Intel Atom x5-Z8350                              5\n",
              "AMD A8-Series                                    4\n",
              "Intel Atom x5-Z8550                              4\n",
              "AMD Ryzen                                        4\n",
              "Intel Pentium Dual                               3\n",
              "Intel Xeon E3-1505M                              2\n",
              "AMD FX                                           2\n",
              "Intel Xeon E3-1535M                              2\n",
              "Intel Atom X5-Z8350                              2\n",
              "Intel Atom x5-Z8300                              1\n",
              "Intel Atom Z8350                                 1\n",
              "AMD A4-Series                                    1\n",
              "S a m s u n g   C o r t e x   A 7 2 & A 5 3      1\n",
              "Name: Cpu, dtype: int64"
            ]
          },
          "metadata": {},
          "execution_count": 79
        }
      ],
      "source": [
        "laptops.Cpu = laptops.Cpu.apply(lambda x: x.strip())\n",
        "num_of_cpu = laptops['Cpu'].value_counts(ascending=False)\n",
        "num_of_cpu\n",
        "# Checking how many counts of different CPUs there is"
      ]
    },
    {
      "cell_type": "code",
      "execution_count": 80,
      "id": "276658ce",
      "metadata": {
        "colab": {
          "base_uri": "https://localhost:8080/"
        },
        "id": "276658ce",
        "outputId": "c5b2ae16-bb40-471f-923c-1bde9d40f06d"
      },
      "outputs": [
        {
          "output_type": "execute_result",
          "data": {
            "text/plain": [
              "9"
            ]
          },
          "metadata": {},
          "execution_count": 80
        }
      ],
      "source": [
        "num_of_cpu_less_10 = num_of_cpu[num_of_cpu<=10]\n",
        "\n",
        "laptops.Cpu = laptops.Cpu.apply(lambda x: 'other' if x in num_of_cpu_less_10 else x)\n",
        "len(laptops.Cpu.unique())\n",
        "# Classifying CPUs that appear in the dataset less than 10 times as 'other'"
      ]
    },
    {
      "cell_type": "markdown",
      "id": "588efc94",
      "metadata": {
        "id": "588efc94"
      },
      "source": [
        "### OpSys"
      ]
    },
    {
      "cell_type": "code",
      "execution_count": 81,
      "id": "0f4857a2",
      "metadata": {
        "colab": {
          "base_uri": "https://localhost:8080/"
        },
        "id": "0f4857a2",
        "outputId": "2a2879bd-2093-45ca-f547-e8636dbc4808"
      },
      "outputs": [
        {
          "output_type": "execute_result",
          "data": {
            "text/plain": [
              "Windows 10      1072\n",
              "No OS             66\n",
              "Linux             62\n",
              "Windows 7         45\n",
              "Chrome OS         27\n",
              "macOS             13\n",
              "Mac OS X           8\n",
              "Windows 10 S       8\n",
              "Android            2\n",
              "Name: OpSys, dtype: int64"
            ]
          },
          "metadata": {},
          "execution_count": 81
        }
      ],
      "source": [
        "laptops.OpSys.value_counts()"
      ]
    },
    {
      "cell_type": "code",
      "execution_count": 82,
      "id": "2e668908",
      "metadata": {
        "id": "2e668908"
      },
      "outputs": [],
      "source": [
        "windows_list = ['Windows 10', 'Windows 7', 'Windows 10 S']\n",
        "mac_list = ['macOS', 'Mac OS X']\n",
        "other = ['No OS', 'Linux', 'Chrome OS', 'Android']\n",
        "\n",
        "laptops['OpSys'] = ['Windows' if x in windows_list else 'mac' if x in mac_list else 'Other' for x in laptops['OpSys']]\n",
        "# Changing values in 'OpSys' to 'mac' for OS of Apple, 'Windows' for all versions of Windows\n",
        "# and 'other' for other OS"
      ]
    },
    {
      "cell_type": "code",
      "execution_count": 83,
      "id": "b8f77d9d",
      "metadata": {
        "colab": {
          "base_uri": "https://localhost:8080/"
        },
        "id": "b8f77d9d",
        "outputId": "84b232cb-74d4-4381-acb7-cad77343075e"
      },
      "outputs": [
        {
          "output_type": "execute_result",
          "data": {
            "text/plain": [
              "Windows    1125\n",
              "Other       157\n",
              "mac          21\n",
              "Name: OpSys, dtype: int64"
            ]
          },
          "metadata": {},
          "execution_count": 83
        }
      ],
      "source": [
        "laptops['OpSys'].value_counts()"
      ]
    },
    {
      "cell_type": "markdown",
      "id": "444e73a4",
      "metadata": {
        "id": "444e73a4"
      },
      "source": [
        "## Data Visualization"
      ]
    },
    {
      "cell_type": "code",
      "execution_count": 84,
      "id": "21c60d95",
      "metadata": {
        "colab": {
          "base_uri": "https://localhost:8080/",
          "height": 569
        },
        "id": "21c60d95",
        "outputId": "81d7cd22-8632-4549-93d4-6626594e3b63"
      },
      "outputs": [
        {
          "output_type": "display_data",
          "data": {
            "text/plain": [
              "<Figure size 640x480 with 1 Axes>"
            ],
            "image/png": "[encoded data removed]"
          },
          "metadata": {}
        }
      ],
      "source": [
        "#Checking what CPUs cost the most\n",
        "ax = sns.barplot(data=laptops, x='Cpu', y='Price')\n",
        "ax.tick_params(axis='x', rotation=90)"
      ]
    },
    {
      "cell_type": "markdown",
      "id": "0ea5f95d",
      "metadata": {
        "id": "0ea5f95d"
      },
      "source": [
        "The most expensive Cpu is Intel Core i7 followed by Intel Core M"
      ]
    },
    {
      "cell_type": "code",
      "execution_count": 85,
      "id": "9f3a4141",
      "metadata": {
        "colab": {
          "base_uri": "https://localhost:8080/",
          "height": 507
        },
        "id": "9f3a4141",
        "outputId": "2a2ebea4-209c-4abd-89f3-d3bf04653ccd"
      },
      "outputs": [
        {
          "output_type": "display_data",
          "data": {
            "text/plain": [
              "<Figure size 640x480 with 1 Axes>"
            ],
            "image/png": "[encoded data removed]"
          },
          "metadata": {}
        }
      ],
      "source": [
        "ax1 = sns.barplot(data=laptops, x='Company', y='Price')\n",
        "ax1.tick_params(axis='x', rotation=90)"
      ]
    },
    {
      "cell_type": "code",
      "execution_count": 86,
      "id": "fab3dc5d",
      "metadata": {
        "colab": {
          "base_uri": "https://localhost:8080/",
          "height": 559
        },
        "id": "fab3dc5d",
        "outputId": "bf9a68fd-c131-45e5-ca4c-040b4e357305"
      },
      "outputs": [
        {
          "output_type": "display_data",
          "data": {
            "text/plain": [
              "<Figure size 640x480 with 1 Axes>"
            ],
            "image/png": "[encoded data removed]"
          },
          "metadata": {}
        }
      ],
      "source": [
        "ax = sns.barplot(data=laptops, x='TypeName', y='Price')\n",
        "ax.tick_params(axis='x', rotation=90)"
      ]
    },
    {
      "cell_type": "code",
      "execution_count": 87,
      "id": "a33363fe",
      "metadata": {
        "colab": {
          "base_uri": "https://localhost:8080/",
          "height": 569
        },
        "id": "a33363fe",
        "outputId": "df00fecb-c35d-4f24-f037-67fd862edf1c"
      },
      "outputs": [
        {
          "output_type": "display_data",
          "data": {
            "text/plain": [
              "<Figure size 640x480 with 1 Axes>"
            ],
            "image/png": "[encoded data removed]"
          },
          "metadata": {}
        }
      ],
      "source": [
        "ax = sns.histplot(data=laptops, x='Cpu', y='Company')\n",
        "ax.tick_params(axis='x', rotation=90)"
      ]
    },
    {
      "cell_type": "code",
      "execution_count": 88,
      "id": "3bedb6b1",
      "metadata": {
        "colab": {
          "base_uri": "https://localhost:8080/",
          "height": 641
        },
        "id": "3bedb6b1",
        "outputId": "175a38f8-163e-4e65-927f-65808ac8ea12"
      },
      "outputs": [
        {
          "output_type": "stream",
          "name": "stderr",
          "text": [
            "<ipython-input-88-702af1b858dd>:2: FutureWarning: The default value of numeric_only in DataFrame.corr is deprecated. In a future version, it will default to False. Select only valid columns or specify the value of numeric_only to silence this warning.\n",
            "  sns.heatmap(laptops.corr(), cmap='YlGnBu', annot=True)\n"
          ]
        },
        {
          "output_type": "execute_result",
          "data": {
            "text/plain": [
              "<Axes: >"
            ]
          },
          "metadata": {},
          "execution_count": 88
        },
        {
          "output_type": "display_data",
          "data": {
            "text/plain": [
              "<Figure size 2000x1000 with 2 Axes>"
            ],
            "image/png": "[encoded data removed]"
          },
          "metadata": {}
        }
      ],
      "source": [
        "fig = plt.figure(figsize=(20, 10))\n",
        "sns.heatmap(laptops.corr(), cmap='YlGnBu', annot=True)"
      ]
    },
    {
      "cell_type": "code",
      "execution_count": 89,
      "id": "19e8df33",
      "metadata": {
        "scrolled": false,
        "colab": {
          "base_uri": "https://localhost:8080/",
          "height": 525
        },
        "id": "19e8df33",
        "outputId": "83afc871-92d9-433c-ea4a-267fdae8ab3a"
      },
      "outputs": [
        {
          "output_type": "execute_result",
          "data": {
            "text/plain": [
              "<seaborn.axisgrid.FacetGrid at 0x7d62884a9cf0>"
            ]
          },
          "metadata": {},
          "execution_count": 89
        },
        {
          "output_type": "display_data",
          "data": {
            "text/plain": [
              "<Figure size 500x500 with 1 Axes>"
            ],
            "image/png": "[encoded data removed]"
          },
          "metadata": {}
        }
      ],
      "source": [
        "sns.displot(laptops['Price'])\n",
        "#It can be seen that distribution is right-skewed"
      ]
    },
    {
      "cell_type": "code",
      "execution_count": 90,
      "id": "d9a69df1",
      "metadata": {
        "colab": {
          "base_uri": "https://localhost:8080/",
          "height": 663
        },
        "id": "d9a69df1",
        "outputId": "b8908de8-f603-4a27-f21e-ff0ef8dcca5e"
      },
      "outputs": [
        {
          "output_type": "stream",
          "name": "stderr",
          "text": [
            "<ipython-input-90-57200aef8ada>:1: UserWarning: \n",
            "\n",
            "`distplot` is a deprecated function and will be removed in seaborn v0.14.0.\n",
            "\n",
            "Please adapt your code to use either `displot` (a figure-level function with\n",
            "similar flexibility) or `histplot` (an axes-level function for histograms).\n",
            "\n",
            "For a guide to updating your code to use the new functions, please see\n",
            "https://gist.github.com/mwaskom/de44147ed2974457ad6372750bbe5751\n",
            "\n",
            "  sns.distplot(np.log(laptops['Price']))\n"
          ]
        },
        {
          "output_type": "execute_result",
          "data": {
            "text/plain": [
              "<Axes: xlabel='Price', ylabel='Density'>"
            ]
          },
          "metadata": {},
          "execution_count": 90
        },
        {
          "output_type": "display_data",
          "data": {
            "text/plain": [
              "<Figure size 640x480 with 1 Axes>"
            ],
            "image/png": "[encoded data removed]"
          },
          "metadata": {}
        }
      ],
      "source": [
        "sns.displot(np.log(laptops['Price']))\n",
        "#Using np.log to obtain more normally distributed price"
      ]
    },
    {
      "cell_type": "markdown",
      "id": "a6a51321",
      "metadata": {
        "id": "a6a51321"
      },
      "source": [
        "## Encoding categorical variables"
      ]
    },
    {
      "cell_type": "code",
      "execution_count": 91,
      "id": "970f76ab",
      "metadata": {
        "scrolled": false,
        "colab": {
          "base_uri": "https://localhost:8080/"
        },
        "id": "970f76ab",
        "outputId": "7f99747c-d206-462b-befc-ab2d402d67f7"
      },
      "outputs": [
        {
          "output_type": "execute_result",
          "data": {
            "text/plain": [
              "Company         object\n",
              "TypeName        object\n",
              "Inches         float64\n",
              "Cpu             object\n",
              "Ram              int64\n",
              "Gpu             object\n",
              "OpSys           object\n",
              "Weight         float64\n",
              "Price          float64\n",
              "Touchscreen       bool\n",
              "Full HD           bool\n",
              "4K                bool\n",
              "IPS panel         bool\n",
              "Quad HD           bool\n",
              "Screen_x         int64\n",
              "Screen_y         int64\n",
              "HDD              int64\n",
              "SSD              int64\n",
              "dtype: object"
            ]
          },
          "metadata": {},
          "execution_count": 91
        }
      ],
      "source": [
        "laptops.dtypes"
      ]
    },
    {
      "cell_type": "code",
      "execution_count": 92,
      "id": "e9758980",
      "metadata": {
        "id": "e9758980"
      },
      "outputs": [],
      "source": [
        "le = LabelEncoder()\n",
        "\n",
        "laptops['Company'] = le.fit_transform(laptops['Company'])\n",
        "laptops['TypeName'] = le.fit_transform(laptops['TypeName'])\n",
        "laptops['Cpu'] = le.fit_transform(laptops['Cpu'])\n",
        "laptops['Gpu'] = le.fit_transform(laptops['Gpu'])\n",
        "laptops['OpSys'] = le.fit_transform(laptops['OpSys'])\n",
        "laptops['Touchscreen'] = le.fit_transform(laptops['Touchscreen'])\n",
        "laptops['Full HD'] = le.fit_transform(laptops['Full HD'])\n",
        "laptops['4K'] = le.fit_transform(laptops['4K'])\n",
        "laptops['IPS panel'] = le.fit_transform(laptops['IPS panel'])\n",
        "laptops['Quad HD'] = le.fit_transform(laptops['Quad HD'])"
      ]
    },
    {
      "cell_type": "code",
      "execution_count": 93,
      "id": "2bace1f0",
      "metadata": {
        "colab": {
          "base_uri": "https://localhost:8080/",
          "height": 288
        },
        "id": "2bace1f0",
        "outputId": "1c205a17-0423-4226-c568-a742537587cc"
      },
      "outputs": [
        {
          "output_type": "execute_result",
          "data": {
            "text/plain": [
              "   Company  TypeName  Inches  Cpu  Ram  Gpu  OpSys  Weight        Price  \\\n",
              "0        1         4    13.3    5    8   58      2    1.37   71378.6832   \n",
              "1        1         4    13.3    5    8   51      2    1.34   47895.5232   \n",
              "2        7         3    15.6    5    8   53      0    1.86   30636.0000   \n",
              "3        1         4    15.4    6   16    9      2    1.83  135195.3360   \n",
              "4        1         4    13.3    5    8   59      2    1.37   96095.8080   \n",
              "\n",
              "   Touchscreen  Full HD  4K  IPS panel  Quad HD  Screen_x  Screen_y  HDD  SSD  \n",
              "0            0        0   0          1        0      2560      1600    0  128  \n",
              "1            0        0   0          0        0      1440       900    0    0  \n",
              "2            0        1   0          0        0      1920      1080    0  256  \n",
              "3            0        0   0          1        0      2880      1800    0  512  \n",
              "4            0        0   0          1        0      2560      1600    0  256  "
            ],
            "text/html": [
              "\n",
              "\n",
              "  <div id=\"df-0ef6d204-ec76-488a-8e43-ba98f6eafa80\">\n",
              "    <div class=\"colab-df-container\">\n",
              "      <div>\n",
              "<style scoped>\n",
              "    .dataframe tbody tr th:only-of-type {\n",
              "        vertical-align: middle;\n",
              "    }\n",
              "\n",
              "    .dataframe tbody tr th {\n",
              "        vertical-align: top;\n",
              "    }\n",
              "\n",
              "    .dataframe thead th {\n",
              "        text-align: right;\n",
              "    }\n",
              "</style>\n",
              "<table border=\"1\" class=\"dataframe\">\n",
              "  <thead>\n",
              "    <tr style=\"text-align: right;\">\n",
              "      <th></th>\n",
              "      <th>Company</th>\n",
              "      <th>TypeName</th>\n",
              "      <th>Inches</th>\n",
              "      <th>Cpu</th>\n",
              "      <th>Ram</th>\n",
              "      <th>Gpu</th>\n",
              "      <th>OpSys</th>\n",
              "      <th>Weight</th>\n",
              "      <th>Price</th>\n",
              "      <th>Touchscreen</th>\n",
              "      <th>Full HD</th>\n",
              "      <th>4K</th>\n",
              "      <th>IPS panel</th>\n",
              "      <th>Quad HD</th>\n",
              "      <th>Screen_x</th>\n",
              "      <th>Screen_y</th>\n",
              "      <th>HDD</th>\n",
              "      <th>SSD</th>\n",
              "    </tr>\n",
              "  </thead>\n",
              "  <tbody>\n",
              "    <tr>\n",
              "      <th>0</th>\n",
              "      <td>1</td>\n",
              "      <td>4</td>\n",
              "      <td>13.3</td>\n",
              "      <td>5</td>\n",
              "      <td>8</td>\n",
              "      <td>58</td>\n",
              "      <td>2</td>\n",
              "      <td>1.37</td>\n",
              "      <td>71378.6832</td>\n",
              "      <td>0</td>\n",
              "      <td>0</td>\n",
              "      <td>0</td>\n",
              "      <td>1</td>\n",
              "      <td>0</td>\n",
              "      <td>2560</td>\n",
              "      <td>1600</td>\n",
              "      <td>0</td>\n",
              "      <td>128</td>\n",
              "    </tr>\n",
              "    <tr>\n",
              "      <th>1</th>\n",
              "      <td>1</td>\n",
              "      <td>4</td>\n",
              "      <td>13.3</td>\n",
              "      <td>5</td>\n",
              "      <td>8</td>\n",
              "      <td>51</td>\n",
              "      <td>2</td>\n",
              "      <td>1.34</td>\n",
              "      <td>47895.5232</td>\n",
              "      <td>0</td>\n",
              "      <td>0</td>\n",
              "      <td>0</td>\n",
              "      <td>0</td>\n",
              "      <td>0</td>\n",
              "      <td>1440</td>\n",
              "      <td>900</td>\n",
              "      <td>0</td>\n",
              "      <td>0</td>\n",
              "    </tr>\n",
              "    <tr>\n",
              "      <th>2</th>\n",
              "      <td>7</td>\n",
              "      <td>3</td>\n",
              "      <td>15.6</td>\n",
              "      <td>5</td>\n",
              "      <td>8</td>\n",
              "      <td>53</td>\n",
              "      <td>0</td>\n",
              "      <td>1.86</td>\n",
              "      <td>30636.0000</td>\n",
              "      <td>0</td>\n",
              "      <td>1</td>\n",
              "      <td>0</td>\n",
              "      <td>0</td>\n",
              "      <td>0</td>\n",
              "      <td>1920</td>\n",
              "      <td>1080</td>\n",
              "      <td>0</td>\n",
              "      <td>256</td>\n",
              "    </tr>\n",
              "    <tr>\n",
              "      <th>3</th>\n",
              "      <td>1</td>\n",
              "      <td>4</td>\n",
              "      <td>15.4</td>\n",
              "      <td>6</td>\n",
              "      <td>16</td>\n",
              "      <td>9</td>\n",
              "      <td>2</td>\n",
              "      <td>1.83</td>\n",
              "      <td>135195.3360</td>\n",
              "      <td>0</td>\n",
              "      <td>0</td>\n",
              "      <td>0</td>\n",
              "      <td>1</td>\n",
              "      <td>0</td>\n",
              "      <td>2880</td>\n",
              "      <td>1800</td>\n",
              "      <td>0</td>\n",
              "      <td>512</td>\n",
              "    </tr>\n",
              "    <tr>\n",
              "      <th>4</th>\n",
              "      <td>1</td>\n",
              "      <td>4</td>\n",
              "      <td>13.3</td>\n",
              "      <td>5</td>\n",
              "      <td>8</td>\n",
              "      <td>59</td>\n",
              "      <td>2</td>\n",
              "      <td>1.37</td>\n",
              "      <td>96095.8080</td>\n",
              "      <td>0</td>\n",
              "      <td>0</td>\n",
              "      <td>0</td>\n",
              "      <td>1</td>\n",
              "      <td>0</td>\n",
              "      <td>2560</td>\n",
              "      <td>1600</td>\n",
              "      <td>0</td>\n",
              "      <td>256</td>\n",
              "    </tr>\n",
              "  </tbody>\n",
              "</table>\n",
              "</div>\n",
              "      <button class=\"colab-df-convert\" onclick=\"convertToInteractive('df-0ef6d204-ec76-488a-8e43-ba98f6eafa80')\"\n",
              "              title=\"Convert this dataframe to an interactive table.\"\n",
              "              style=\"display:none;\">\n",
              "\n",
              "  <svg xmlns=\"http://www.w3.org/2000/svg\" height=\"24px\"viewBox=\"0 0 24 24\"\n",
              "       width=\"24px\">\n",
              "    <path d=\"M0 0h24v24H0V0z\" fill=\"none\"/>\n",
              "    <path d=\"M18.56 5.44l.94 2.06.94-2.06 2.06-.94-2.06-.94-.94-2.06-.94 2.06-2.06.94zm-11 1L8.5 8.5l.94-2.06 2.06-.94-2.06-.94L8.5 2.5l-.94 2.06-2.06.94zm10 10l.94 2.06.94-2.06 2.06-.94-2.06-.94-.94-2.06-.94 2.06-2.06.94z\"/><path d=\"M17.41 7.96l-1.37-1.37c-.4-.4-.92-.59-1.43-.59-.52 0-1.04.2-1.43.59L10.3 9.45l-7.72 7.72c-.78.78-.78 2.05 0 2.83L4 21.41c.39.39.9.59 1.41.59.51 0 1.02-.2 1.41-.59l7.78-7.78 2.81-2.81c.8-.78.8-2.07 0-2.86zM5.41 20L4 18.59l7.72-7.72 1.47 1.35L5.41 20z\"/>\n",
              "  </svg>\n",
              "      </button>\n",
              "\n",
              "\n",
              "\n",
              "    <div id=\"df-a4ea9431-95f1-4a29-b066-5fce731fc2c0\">\n",
              "      <button class=\"colab-df-quickchart\" onclick=\"quickchart('df-a4ea9431-95f1-4a29-b066-5fce731fc2c0')\"\n",
              "              title=\"Suggest charts.\"\n",
              "              style=\"display:none;\">\n",
              "\n",
              "<svg xmlns=\"http://www.w3.org/2000/svg\" height=\"24px\"viewBox=\"0 0 24 24\"\n",
              "     width=\"24px\">\n",
              "    <g>\n",
              "        <path d=\"M19 3H5c-1.1 0-2 .9-2 2v14c0 1.1.9 2 2 2h14c1.1 0 2-.9 2-2V5c0-1.1-.9-2-2-2zM9 17H7v-7h2v7zm4 0h-2V7h2v10zm4 0h-2v-4h2v4z\"/>\n",
              "    </g>\n",
              "</svg>\n",
              "      </button>\n",
              "    </div>\n",
              "\n",
              "<style>\n",
              "  .colab-df-quickchart {\n",
              "    background-color: #E8F0FE;\n",
              "    border: none;\n",
              "    border-radius: 50%;\n",
              "    cursor: pointer;\n",
              "    display: none;\n",
              "    fill: #1967D2;\n",
              "    height: 32px;\n",
              "    padding: 0 0 0 0;\n",
              "    width: 32px;\n",
              "  }\n",
              "\n",
              "  .colab-df-quickchart:hover {\n",
              "    background-color: #E2EBFA;\n",
              "    box-shadow: 0px 1px 2px rgba(60, 64, 67, 0.3), 0px 1px 3px 1px rgba(60, 64, 67, 0.15);\n",
              "    fill: #174EA6;\n",
              "  }\n",
              "\n",
              "  [theme=dark] .colab-df-quickchart {\n",
              "    background-color: #3B4455;\n",
              "    fill: #D2E3FC;\n",
              "  }\n",
              "\n",
              "  [theme=dark] .colab-df-quickchart:hover {\n",
              "    background-color: #434B5C;\n",
              "    box-shadow: 0px 1px 3px 1px rgba(0, 0, 0, 0.15);\n",
              "    filter: drop-shadow(0px 1px 2px rgba(0, 0, 0, 0.3));\n",
              "    fill: #FFFFFF;\n",
              "  }\n",
              "</style>\n",
              "\n",
              "    <script>\n",
              "      async function quickchart(key) {\n",
              "        const containerElement = document.querySelector('#' + key);\n",
              "        const charts = await google.colab.kernel.invokeFunction(\n",
              "            'suggestCharts', [key], {});\n",
              "      }\n",
              "    </script>\n",
              "\n",
              "      <script>\n",
              "\n",
              "function displayQuickchartButton(domScope) {\n",
              "  let quickchartButtonEl =\n",
              "    domScope.querySelector('#df-a4ea9431-95f1-4a29-b066-5fce731fc2c0 button.colab-df-quickchart');\n",
              "  quickchartButtonEl.style.display =\n",
              "    google.colab.kernel.accessAllowed ? 'block' : 'none';\n",
              "}\n",
              "\n",
              "        displayQuickchartButton(document);\n",
              "      </script>\n",
              "      <style>\n",
              "    .colab-df-container {\n",
              "      display:flex;\n",
              "      flex-wrap:wrap;\n",
              "      gap: 12px;\n",
              "    }\n",
              "\n",
              "    .colab-df-convert {\n",
              "      background-color: #E8F0FE;\n",
              "      border: none;\n",
              "      border-radius: 50%;\n",
              "      cursor: pointer;\n",
              "      display: none;\n",
              "      fill: #1967D2;\n",
              "      height: 32px;\n",
              "      padding: 0 0 0 0;\n",
              "      width: 32px;\n",
              "    }\n",
              "\n",
              "    .colab-df-convert:hover {\n",
              "      background-color: #E2EBFA;\n",
              "      box-shadow: 0px 1px 2px rgba(60, 64, 67, 0.3), 0px 1px 3px 1px rgba(60, 64, 67, 0.15);\n",
              "      fill: #174EA6;\n",
              "    }\n",
              "\n",
              "    [theme=dark] .colab-df-convert {\n",
              "      background-color: #3B4455;\n",
              "      fill: #D2E3FC;\n",
              "    }\n",
              "\n",
              "    [theme=dark] .colab-df-convert:hover {\n",
              "      background-color: #434B5C;\n",
              "      box-shadow: 0px 1px 3px 1px rgba(0, 0, 0, 0.15);\n",
              "      filter: drop-shadow(0px 1px 2px rgba(0, 0, 0, 0.3));\n",
              "      fill: #FFFFFF;\n",
              "    }\n",
              "  </style>\n",
              "\n",
              "      <script>\n",
              "        const buttonEl =\n",
              "          document.querySelector('#df-0ef6d204-ec76-488a-8e43-ba98f6eafa80 button.colab-df-convert');\n",
              "        buttonEl.style.display =\n",
              "          google.colab.kernel.accessAllowed ? 'block' : 'none';\n",
              "\n",
              "        async function convertToInteractive(key) {\n",
              "          const element = document.querySelector('#df-0ef6d204-ec76-488a-8e43-ba98f6eafa80');\n",
              "          const dataTable =\n",
              "            await google.colab.kernel.invokeFunction('convertToInteractive',\n",
              "                                                     [key], {});\n",
              "          if (!dataTable) return;\n",
              "\n",
              "          const docLinkHtml = 'Like what you see? Visit the ' +\n",
              "            '<a target=\"_blank\" href=https://colab.research.google.com/notebooks/data_table.ipynb>data table notebook</a>'\n",
              "            + ' to learn more about interactive tables.';\n",
              "          element.innerHTML = '';\n",
              "          dataTable['output_type'] = 'display_data';\n",
              "          await google.colab.output.renderOutput(dataTable, element);\n",
              "          const docLink = document.createElement('div');\n",
              "          docLink.innerHTML = docLinkHtml;\n",
              "          element.appendChild(docLink);\n",
              "        }\n",
              "      </script>\n",
              "    </div>\n",
              "  </div>\n"
            ]
          },
          "metadata": {},
          "execution_count": 93
        }
      ],
      "source": [
        "laptops.head()"
      ]
    },
    {
      "cell_type": "markdown",
      "id": "9c990998",
      "metadata": {
        "id": "9c990998"
      },
      "source": [
        "## Building model"
      ]
    },
    {
      "cell_type": "code",
      "execution_count": 94,
      "id": "f9c6c454",
      "metadata": {
        "id": "f9c6c454"
      },
      "outputs": [],
      "source": [
        "X= laptops.drop(['Price'], axis=1)\n",
        "y=np.log(laptops['Price'])"
      ]
    },
    {
      "cell_type": "code",
      "execution_count": 95,
      "id": "a131def7",
      "metadata": {
        "id": "a131def7"
      },
      "outputs": [],
      "source": [
        "X_train, X_test, y_train, y_test = train_test_split(X, y, test_size=0.2, random_state=0)"
      ]
    },
    {
      "cell_type": "code",
      "execution_count": 96,
      "id": "f64be647",
      "metadata": {
        "colab": {
          "base_uri": "https://localhost:8080/"
        },
        "id": "f64be647",
        "outputId": "c8c27ff1-9df1-4d73-be18-78d6f7d8c570"
      },
      "outputs": [
        {
          "output_type": "execute_result",
          "data": {
            "text/plain": [
              "((1042, 17), (261, 17), (1042,))"
            ]
          },
          "metadata": {},
          "execution_count": 96
        }
      ],
      "source": [
        "X_train.shape, X_test.shape, y_train.shape"
      ]
    },
    {
      "cell_type": "code",
      "execution_count": 97,
      "id": "466b2e94",
      "metadata": {
        "colab": {
          "base_uri": "https://localhost:8080/"
        },
        "id": "466b2e94",
        "outputId": "7aa9e608-0a56-4ef5-aa5b-cfa2a538de26"
      },
      "outputs": [
        {
          "output_type": "stream",
          "name": "stdout",
          "text": [
            "R2 for linear regression is: 0.7192240267656691\n",
            "RMSE for linear regression is: 0.32813304013239736\n"
          ]
        }
      ],
      "source": [
        "lr = LinearRegression()\n",
        "\n",
        "lr.fit(X_train, y_train)\n",
        "lr_pred = lr.predict(X_test)\n",
        "r2_lr = r2_score(y_test, lr_pred)\n",
        "rmse_lr = np.sqrt(mean_squared_error(y_test,lr_pred))\n",
        "\n",
        "print('R2 for linear regression is: ' +str(r2_lr))\n",
        "print('RMSE for linear regression is: ' + str(rmse_lr))"
      ]
    },
    {
      "cell_type": "markdown",
      "id": "ed905b5a",
      "metadata": {
        "id": "ed905b5a"
      },
      "source": [
        "## Ridge Regression"
      ]
    },
    {
      "cell_type": "code",
      "execution_count": 98,
      "id": "516e2c3d",
      "metadata": {
        "colab": {
          "base_uri": "https://localhost:8080/"
        },
        "id": "516e2c3d",
        "outputId": "c4ee661a-1aea-4706-a544-f43ddfa01e65"
      },
      "outputs": [
        {
          "output_type": "stream",
          "name": "stdout",
          "text": [
            "{'alpha': 1e-06}\n"
          ]
        }
      ],
      "source": [
        "ridge_params = {'alpha': [0.01, 0.001, 0.0001, 0.00001, 0.000001]}\n",
        "# Defining parameters for ridge regression\n",
        "ridge = Ridge(alpha=0.00000001)\n",
        "\n",
        "\n",
        "ridge_gs = GridSearchCV(estimator = ridge, param_grid = ridge_params, scoring = 'neg_mean_squared_error')\n",
        "ridge_gs.fit(X_train, y_train)\n",
        "\n",
        "print(ridge_gs.best_params_)"
      ]
    },
    {
      "cell_type": "code",
      "execution_count": 99,
      "id": "223f3c35",
      "metadata": {
        "colab": {
          "base_uri": "https://localhost:8080/"
        },
        "id": "223f3c35",
        "outputId": "6648fbf9-86cd-4b6d-f937-f1b8026f2b06"
      },
      "outputs": [
        {
          "output_type": "stream",
          "name": "stdout",
          "text": [
            "R2 for ridge regression is: 0.7192240267488638\n",
            "RMSE for ridge regression is: 0.3281330401422172\n"
          ]
        }
      ],
      "source": [
        "ridge.fit(X_train, y_train)\n",
        "ridge_pred = ridge.predict(X_test)\n",
        "r2_ridge = r2_score(y_test, ridge_pred)\n",
        "rmse_ridge = np.sqrt(mean_squared_error(y_test, ridge_pred))\n",
        "\n",
        "print('R2 for ridge regression is: ' +str(r2_ridge))\n",
        "print('RMSE for ridge regression is: ' + str(rmse_ridge))"
      ]
    },
    {
      "cell_type": "markdown",
      "id": "37451374",
      "metadata": {
        "id": "37451374"
      },
      "source": [
        "## Lasso Regression"
      ]
    },
    {
      "cell_type": "code",
      "execution_count": 100,
      "id": "9e2243d7",
      "metadata": {
        "colab": {
          "base_uri": "https://localhost:8080/"
        },
        "id": "9e2243d7",
        "outputId": "cd107f65-629b-455e-c383-4ddcc17d6758"
      },
      "outputs": [
        {
          "output_type": "stream",
          "name": "stderr",
          "text": [
            "/usr/local/lib/python3.10/dist-packages/sklearn/linear_model/_coordinate_descent.py:631: ConvergenceWarning: Objective did not converge. You might want to increase the number of iterations, check the scale of the features or consider increasing regularisation. Duality gap: 7.567e+00, tolerance: 3.255e-02\n",
            "  model = cd_fast.enet_coordinate_descent(\n",
            "/usr/local/lib/python3.10/dist-packages/sklearn/linear_model/_coordinate_descent.py:631: ConvergenceWarning: Objective did not converge. You might want to increase the number of iterations, check the scale of the features or consider increasing regularisation. Duality gap: 1.070e+01, tolerance: 3.232e-02\n",
            "  model = cd_fast.enet_coordinate_descent(\n",
            "/usr/local/lib/python3.10/dist-packages/sklearn/linear_model/_coordinate_descent.py:631: ConvergenceWarning: Objective did not converge. You might want to increase the number of iterations, check the scale of the features or consider increasing regularisation. Duality gap: 6.346e+00, tolerance: 3.236e-02\n",
            "  model = cd_fast.enet_coordinate_descent(\n",
            "/usr/local/lib/python3.10/dist-packages/sklearn/linear_model/_coordinate_descent.py:631: ConvergenceWarning: Objective did not converge. You might want to increase the number of iterations, check the scale of the features or consider increasing regularisation. Duality gap: 4.298e+01, tolerance: 3.255e-02\n",
            "  model = cd_fast.enet_coordinate_descent(\n",
            "/usr/local/lib/python3.10/dist-packages/sklearn/linear_model/_coordinate_descent.py:631: ConvergenceWarning: Objective did not converge. You might want to increase the number of iterations, check the scale of the features or consider increasing regularisation. Duality gap: 3.642e+01, tolerance: 3.229e-02\n",
            "  model = cd_fast.enet_coordinate_descent(\n",
            "/usr/local/lib/python3.10/dist-packages/sklearn/linear_model/_coordinate_descent.py:631: ConvergenceWarning: Objective did not converge. You might want to increase the number of iterations, check the scale of the features or consider increasing regularisation. Duality gap: 4.025e+01, tolerance: 3.186e-02\n",
            "  model = cd_fast.enet_coordinate_descent(\n",
            "/usr/local/lib/python3.10/dist-packages/sklearn/linear_model/_coordinate_descent.py:631: ConvergenceWarning: Objective did not converge. You might want to increase the number of iterations, check the scale of the features or consider increasing regularisation. Duality gap: 4.251e+01, tolerance: 3.232e-02\n",
            "  model = cd_fast.enet_coordinate_descent(\n",
            "/usr/local/lib/python3.10/dist-packages/sklearn/linear_model/_coordinate_descent.py:631: ConvergenceWarning: Objective did not converge. You might want to increase the number of iterations, check the scale of the features or consider increasing regularisation. Duality gap: 3.965e+01, tolerance: 3.236e-02\n",
            "  model = cd_fast.enet_coordinate_descent(\n",
            "/usr/local/lib/python3.10/dist-packages/sklearn/linear_model/_coordinate_descent.py:631: ConvergenceWarning: Objective did not converge. You might want to increase the number of iterations, check the scale of the features or consider increasing regularisation. Duality gap: 4.468e+01, tolerance: 3.255e-02\n",
            "  model = cd_fast.enet_coordinate_descent(\n",
            "/usr/local/lib/python3.10/dist-packages/sklearn/linear_model/_coordinate_descent.py:631: ConvergenceWarning: Objective did not converge. You might want to increase the number of iterations, check the scale of the features or consider increasing regularisation. Duality gap: 4.472e+01, tolerance: 3.229e-02\n",
            "  model = cd_fast.enet_coordinate_descent(\n",
            "/usr/local/lib/python3.10/dist-packages/sklearn/linear_model/_coordinate_descent.py:631: ConvergenceWarning: Objective did not converge. You might want to increase the number of iterations, check the scale of the features or consider increasing regularisation. Duality gap: 4.198e+01, tolerance: 3.186e-02\n",
            "  model = cd_fast.enet_coordinate_descent(\n",
            "/usr/local/lib/python3.10/dist-packages/sklearn/linear_model/_coordinate_descent.py:631: ConvergenceWarning: Objective did not converge. You might want to increase the number of iterations, check the scale of the features or consider increasing regularisation. Duality gap: 4.597e+01, tolerance: 3.232e-02\n",
            "  model = cd_fast.enet_coordinate_descent(\n",
            "/usr/local/lib/python3.10/dist-packages/sklearn/linear_model/_coordinate_descent.py:631: ConvergenceWarning: Objective did not converge. You might want to increase the number of iterations, check the scale of the features or consider increasing regularisation. Duality gap: 4.391e+01, tolerance: 3.236e-02\n",
            "  model = cd_fast.enet_coordinate_descent(\n",
            "/usr/local/lib/python3.10/dist-packages/sklearn/linear_model/_coordinate_descent.py:631: ConvergenceWarning: Objective did not converge. You might want to increase the number of iterations, check the scale of the features or consider increasing regularisation. Duality gap: 4.484e+01, tolerance: 3.255e-02\n",
            "  model = cd_fast.enet_coordinate_descent(\n"
          ]
        },
        {
          "output_type": "stream",
          "name": "stdout",
          "text": [
            "{'alpha': 1e-06}\n"
          ]
        },
        {
          "output_type": "stream",
          "name": "stderr",
          "text": [
            "/usr/local/lib/python3.10/dist-packages/sklearn/linear_model/_coordinate_descent.py:631: ConvergenceWarning: Objective did not converge. You might want to increase the number of iterations, check the scale of the features or consider increasing regularisation. Duality gap: 4.557e+01, tolerance: 3.229e-02\n",
            "  model = cd_fast.enet_coordinate_descent(\n",
            "/usr/local/lib/python3.10/dist-packages/sklearn/linear_model/_coordinate_descent.py:631: ConvergenceWarning: Objective did not converge. You might want to increase the number of iterations, check the scale of the features or consider increasing regularisation. Duality gap: 4.213e+01, tolerance: 3.186e-02\n",
            "  model = cd_fast.enet_coordinate_descent(\n",
            "/usr/local/lib/python3.10/dist-packages/sklearn/linear_model/_coordinate_descent.py:631: ConvergenceWarning: Objective did not converge. You might want to increase the number of iterations, check the scale of the features or consider increasing regularisation. Duality gap: 4.632e+01, tolerance: 3.232e-02\n",
            "  model = cd_fast.enet_coordinate_descent(\n",
            "/usr/local/lib/python3.10/dist-packages/sklearn/linear_model/_coordinate_descent.py:631: ConvergenceWarning: Objective did not converge. You might want to increase the number of iterations, check the scale of the features or consider increasing regularisation. Duality gap: 4.434e+01, tolerance: 3.236e-02\n",
            "  model = cd_fast.enet_coordinate_descent(\n",
            "/usr/local/lib/python3.10/dist-packages/sklearn/linear_model/_coordinate_descent.py:631: ConvergenceWarning: Objective did not converge. You might want to increase the number of iterations, check the scale of the features or consider increasing regularisation. Duality gap: 5.610e+01, tolerance: 4.036e-02\n",
            "  model = cd_fast.enet_coordinate_descent(\n"
          ]
        }
      ],
      "source": [
        "lasso_params = {'alpha': [0.01, 0.001, 0.0001, 0.00001, 0.000001]}\n",
        "lasso = Lasso(alpha=0.000001)\n",
        "\n",
        "lasso_gs = GridSearchCV(estimator = lasso, param_grid = lasso_params, scoring = 'neg_mean_squared_error')\n",
        "lasso_gs.fit(X_train, y_train)\n",
        "\n",
        "print(lasso_gs.best_params_)"
      ]
    },
    {
      "cell_type": "code",
      "execution_count": 101,
      "id": "57a9ccb6",
      "metadata": {
        "scrolled": true,
        "colab": {
          "base_uri": "https://localhost:8080/"
        },
        "id": "57a9ccb6",
        "outputId": "73b7af73-b20d-4fd4-8628-2418bafe4773"
      },
      "outputs": [
        {
          "output_type": "stream",
          "name": "stdout",
          "text": [
            "R2 for lasso regression is: 0.7192238824245751\n",
            "RMSE for lasso regression is: 0.3281331244755755\n"
          ]
        },
        {
          "output_type": "stream",
          "name": "stderr",
          "text": [
            "/usr/local/lib/python3.10/dist-packages/sklearn/linear_model/_coordinate_descent.py:631: ConvergenceWarning: Objective did not converge. You might want to increase the number of iterations, check the scale of the features or consider increasing regularisation. Duality gap: 5.610e+01, tolerance: 4.036e-02\n",
            "  model = cd_fast.enet_coordinate_descent(\n"
          ]
        }
      ],
      "source": [
        "lasso.fit(X_train, y_train)\n",
        "lasso_pred = lasso.predict(X_test)\n",
        "r2_lasso = r2_score(y_test, lasso_pred)\n",
        "rmse_lasso = np.sqrt(mean_squared_error(y_test, lasso_pred))\n",
        "\n",
        "print('R2 for lasso regression is: ' +str(r2_lasso))\n",
        "print('RMSE for lasso regression is: ' + str(rmse_lasso))"
      ]
    },
    {
      "cell_type": "markdown",
      "id": "282cef0e",
      "metadata": {
        "id": "282cef0e"
      },
      "source": [
        "## Decision Tree Regressor"
      ]
    },
    {
      "cell_type": "code",
      "execution_count": 109,
      "id": "b54ff6b9",
      "metadata": {
        "colab": {
          "base_uri": "https://localhost:8080/"
        },
        "id": "b54ff6b9",
        "outputId": "91284eff-d95c-457c-efa6-02cdaf6d541b"
      },
      "outputs": [
        {
          "output_type": "stream",
          "name": "stdout",
          "text": [
            "{'max_depth': 15, 'min_samples_leaf': 3, 'min_samples_split': 2}\n"
          ]
        }
      ],
      "source": [
        "tree_params = {'max_depth': [14, 15, 16, 17, 18],\n",
        "               'min_samples_split': [2, 3, 4, 5, 6],\n",
        "               'min_samples_leaf': [2, 3, 4, 5]}\n",
        "\n",
        "tree = DecisionTreeRegressor(max_depth = 15, min_samples_leaf = 3, min_samples_split = 2, random_state=0)\n",
        "\n",
        "tree_gs = GridSearchCV(estimator=tree, param_grid=tree_params, scoring = 'neg_mean_squared_error')\n",
        "tree_gs.fit(X_train, y_train)\n",
        "print(tree_gs.best_params_)"
      ]
    },
    {
      "cell_type": "code",
      "execution_count": 103,
      "id": "0d7242fd",
      "metadata": {
        "colab": {
          "base_uri": "https://localhost:8080/"
        },
        "id": "0d7242fd",
        "outputId": "853ecf60-e42c-40d3-f319-15ea9cd906f3"
      },
      "outputs": [
        {
          "output_type": "stream",
          "name": "stdout",
          "text": [
            "R2 for Decision Tree regression is: 0.8424774008517789\n",
            "RMSE for Decision Tree regression is: 0.24577710601181413\n"
          ]
        }
      ],
      "source": [
        "tree.fit(X_train, y_train)\n",
        "tree_pred = tree.predict(X_test)\n",
        "r2_tree = r2_score(y_test, tree_pred)\n",
        "rmse_tree = np.sqrt(mean_squared_error(y_test, tree_pred))\n",
        "\n",
        "print('R2 for Decision Tree regression is: ' +str(r2_tree))\n",
        "print('RMSE for Decision Tree regression is: ' + str(rmse_tree))"
      ]
    },
    {
      "cell_type": "markdown",
      "id": "25137f99",
      "metadata": {
        "id": "25137f99"
      },
      "source": [
        "## Random Forest Regression"
      ]
    },
    {
      "cell_type": "code",
      "execution_count": 110,
      "id": "ae1291a4",
      "metadata": {
        "colab": {
          "base_uri": "https://localhost:8080/"
        },
        "id": "ae1291a4",
        "outputId": "ef5cdfbc-2707-40f4-8ba4-8bf869032c1a"
      },
      "outputs": [
        {
          "output_type": "stream",
          "name": "stdout",
          "text": [
            "{'n_estimators': 200, 'min_samples_split': 2, 'min_samples_leaf': 1, 'max_depth': 90, 'bootstrap': True}\n"
          ]
        }
      ],
      "source": [
        "# Using RandomizedSearchCV to narrow down possibilites of GridSearchCV\n",
        "RF_random = {'bootstrap': [True, False],\n",
        " 'max_depth': [10, 30, 50, 70, 90, None],\n",
        " 'min_samples_leaf': [1, 2, 4],\n",
        " 'min_samples_split': [2, 5, 10],\n",
        " 'n_estimators': [200, 600, 1000, 1400, 1800]}\n",
        "\n",
        "RF = RandomForestRegressor()\n",
        "\n",
        "RF_random = RandomizedSearchCV(estimator = RF, param_distributions = RF_random, n_iter = 50, cv = 2, random_state=42, n_jobs = -1)\n",
        "# Fitting the random search model\n",
        "RF_random.fit(X_train, y_train)\n",
        "print(RF_random.best_params_)"
      ]
    },
    {
      "cell_type": "code",
      "execution_count": 111,
      "id": "e0f09a6d",
      "metadata": {
        "colab": {
          "base_uri": "https://localhost:8080/"
        },
        "id": "e0f09a6d",
        "outputId": "d6b81c88-8020-40dc-9145-39a00e00f2c9"
      },
      "outputs": [
        {
          "output_type": "stream",
          "name": "stderr",
          "text": [
            "/usr/local/lib/python3.10/dist-packages/sklearn/model_selection/_validation.py:378: FitFailedWarning: \n",
            "45 fits failed out of a total of 135.\n",
            "The score on these train-test partitions for these parameters will be set to nan.\n",
            "If these failures are not expected, you can try to debug them by setting error_score='raise'.\n",
            "\n",
            "Below are more details about the failures:\n",
            "--------------------------------------------------------------------------------\n",
            "45 fits failed with the following error:\n",
            "Traceback (most recent call last):\n",
            "  File \"/usr/local/lib/python3.10/dist-packages/sklearn/model_selection/_validation.py\", line 686, in _fit_and_score\n",
            "    estimator.fit(X_train, y_train, **fit_params)\n",
            "  File \"/usr/local/lib/python3.10/dist-packages/sklearn/ensemble/_forest.py\", line 340, in fit\n",
            "    self._validate_params()\n",
            "  File \"/usr/local/lib/python3.10/dist-packages/sklearn/base.py\", line 600, in _validate_params\n",
            "    validate_parameter_constraints(\n",
            "  File \"/usr/local/lib/python3.10/dist-packages/sklearn/utils/_param_validation.py\", line 97, in validate_parameter_constraints\n",
            "    raise InvalidParameterError(\n",
            "sklearn.utils._param_validation.InvalidParameterError: The 'min_samples_split' parameter of RandomForestRegressor must be an int in the range [2, inf) or a float in the range (0.0, 1.0]. Got 1 instead.\n",
            "\n",
            "  warnings.warn(some_fits_failed_message, FitFailedWarning)\n",
            "/usr/local/lib/python3.10/dist-packages/sklearn/model_selection/_search.py:952: UserWarning: One or more of the test scores are non-finite: [        nan         nan         nan -0.04318181 -0.0428288  -0.04278378\n",
            " -0.04343659 -0.04292574 -0.04286661         nan         nan         nan\n",
            " -0.04278505 -0.04229844 -0.04225408 -0.04335236 -0.04274608 -0.04296883\n",
            "         nan         nan         nan -0.04323513 -0.04310512 -0.04292737\n",
            " -0.04329268 -0.04296183 -0.04294764]\n",
            "  warnings.warn(\n"
          ]
        },
        {
          "output_type": "stream",
          "name": "stdout",
          "text": [
            "{'bootstrap': True, 'max_depth': 100, 'min_samples_leaf': 1, 'min_samples_split': 2, 'n_estimators': 200}\n"
          ]
        }
      ],
      "source": [
        "RF_params = {'bootstrap': [True],\n",
        " 'max_depth': [90, 100, 110],\n",
        " 'min_samples_leaf': [1],\n",
        " 'min_samples_split': [1, 2, 3],\n",
        " 'n_estimators': [100, 150, 200]}\n",
        "\n",
        "RF_gs = GridSearchCV(estimator=RF, param_grid=RF_params, scoring = 'neg_mean_squared_error')\n",
        "RF_gs.fit(X_train, y_train)\n",
        "print(RF_gs.best_params_)"
      ]
    },
    {
      "cell_type": "code",
      "source": [
        "#Creating RandomForestRegressor with values from GridSearchCV\n",
        "RF = RandomForestRegressor(bootstrap = True, max_depth = 100, min_samples_leaf = 1, min_samples_split = 2, n_estimators = 200)\n",
        "\n",
        "RF.fit(X_train, y_train)\n",
        "RF_pred = RF.predict(X_test)\n",
        "\n",
        "r2_RF = r2_score(y_test, RF_pred)\n",
        "rmse_RF = np.sqrt(mean_squared_error(y_test, RF_pred))\n",
        "\n",
        "print('R2 for SV regression is: ' +str(r2_RF))\n",
        "print('RMSE for SV regression is: ' + str(rmse_RF))"
      ],
      "metadata": {
        "colab": {
          "base_uri": "https://localhost:8080/"
        },
        "id": "GfCRzoCxHdPI",
        "outputId": "c6de4d6a-5a42-4025-b1e2-10fde27fde7a"
      },
      "id": "GfCRzoCxHdPI",
      "execution_count": 118,
      "outputs": [
        {
          "output_type": "stream",
          "name": "stdout",
          "text": [
            "R2 for SV regression is: 0.8864105900868239\n",
            "RMSE for SV regression is: 0.2087079120407169\n"
          ]
        }
      ]
    },
    {
      "cell_type": "markdown",
      "id": "3eb63edf",
      "metadata": {
        "id": "3eb63edf"
      },
      "source": [
        "## SVM"
      ]
    },
    {
      "cell_type": "code",
      "execution_count": 112,
      "id": "4965357e",
      "metadata": {
        "colab": {
          "base_uri": "https://localhost:8080/"
        },
        "id": "4965357e",
        "outputId": "e4c416de-ac40-43c4-fef9-737e3b32cbfa"
      },
      "outputs": [
        {
          "output_type": "stream",
          "name": "stdout",
          "text": [
            "{'C': 11, 'gamma': 0.001, 'kernel': 'rbf'}\n"
          ]
        }
      ],
      "source": [
        "svr_params = {'C': [7, 8, 9, 10, 11],\n",
        "              'gamma': [1, 0.1, 0.01, 0.001, 0.0001],\n",
        "              'kernel': ['rbf']}\n",
        "\n",
        "svr = SVR(C = 11, gamma = 0.001, kernel = 'rbf')\n",
        "\n",
        "svr_gs = GridSearchCV(estimator = svr, param_grid = svr_params, scoring = 'neg_mean_squared_error')\n",
        "svr_gs.fit(X_train, y_train)\n",
        "print(svr_gs.best_params_)"
      ]
    },
    {
      "cell_type": "code",
      "execution_count": 113,
      "id": "dcd795cc",
      "metadata": {
        "colab": {
          "base_uri": "https://localhost:8080/"
        },
        "id": "dcd795cc",
        "outputId": "1011cd5f-bb29-42e9-8894-b38dd457d45d"
      },
      "outputs": [
        {
          "output_type": "stream",
          "name": "stdout",
          "text": [
            "R2 for SV regression is: 0.8014780449154078\n",
            "RMSE for SV regression is: 0.2759143342121377\n"
          ]
        }
      ],
      "source": [
        "svr.fit(X_train, y_train)\n",
        "svr_pred = svr.predict(X_test)\n",
        "\n",
        "r2_svr = r2_score(y_test, svr_pred)\n",
        "rmse_svr = np.sqrt(mean_squared_error(y_test, svr_pred))\n",
        "\n",
        "print('R2 for SV regression is: ' +str(r2_svr))\n",
        "print('RMSE for SV regression is: ' + str(rmse_svr))"
      ]
    },
    {
      "cell_type": "markdown",
      "id": "37e49005",
      "metadata": {
        "id": "37e49005"
      },
      "source": [
        "## LightGBM"
      ]
    },
    {
      "cell_type": "code",
      "execution_count": 114,
      "id": "44832218",
      "metadata": {
        "colab": {
          "base_uri": "https://localhost:8080/"
        },
        "id": "44832218",
        "outputId": "8dd0bfcf-d052-4514-f214-22815cb02aaf"
      },
      "outputs": [
        {
          "output_type": "stream",
          "name": "stdout",
          "text": [
            "R2 for LGBM regression is: 0.8982487313757539\n",
            "RMSE for LGBM regression is: 0.1975331129732261\n"
          ]
        }
      ],
      "source": [
        "lgbm = ltb.LGBMRegressor()\n",
        "\n",
        "lgbm.fit(X_train, y_train)\n",
        "lgbm_pred = lgbm.predict(X_test)\n",
        "\n",
        "r2_lgbm = r2_score(y_test, lgbm_pred)\n",
        "rmse_lgbm = np.sqrt(mean_squared_error(y_test, lgbm_pred))\n",
        "\n",
        "print('R2 for LGBM regression is: ' +str(r2_lgbm))\n",
        "print('RMSE for LGBM regression is: ' + str(rmse_lgbm))"
      ]
    },
    {
      "cell_type": "markdown",
      "id": "8e2f5b9f",
      "metadata": {
        "id": "8e2f5b9f"
      },
      "source": [
        "## Conclusion\n",
        "\n",
        "The best performing model which scores as high as 90% for R2 and has RMSE of 0.19 is LightGBM"
      ]
    }
  ],
  "metadata": {
    "kernelspec": {
      "display_name": "Python 3 (ipykernel)",
      "language": "python",
      "name": "python3"
    },
    "language_info": {
      "codemirror_mode": {
        "name": "ipython",
        "version": 3
      },
      "file_extension": ".py",
      "mimetype": "text/x-python",
      "name": "python",
      "nbconvert_exporter": "python",
      "pygments_lexer": "ipython3",
      "version": "3.9.13"
    },
    "colab": {
      "provenance": []
    }
  },
  "nbformat": 4,
  "nbformat_minor": 5
}